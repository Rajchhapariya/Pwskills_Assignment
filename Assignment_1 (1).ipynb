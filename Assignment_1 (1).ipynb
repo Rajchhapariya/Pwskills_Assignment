{
  "nbformat": 4,
  "nbformat_minor": 0,
  "metadata": {
    "colab": {
      "provenance": []
    },
    "kernelspec": {
      "name": "python3",
      "display_name": "Python 3"
    },
    "language_info": {
      "name": "python"
    }
  },
  "cells": [
    {
      "cell_type": "markdown",
      "source": [
        "## **Questions Answers**"
      ],
      "metadata": {
        "id": "oh99llnrkfLc"
      }
    },
    {
      "cell_type": "markdown",
      "source": [
        "#**Assignment-1 Theory Answers**\n",
        "\n",
        "**1. What is Python, and why is it popular?**\n",
        "\n",
        "- Python is a high-level, interpreted programming language known for its simplicity, readability, and versatility. It is popular because it has  straightforward syntax, a large standard library, extensive community support, and is used in fields such as web development, data science, automation, and artificial intelligence.\n",
        "\n",
        "**2. What is an interpreter in Python?**\n",
        "\n",
        "- An interpreter is a program that reads and executes Python code line by line, translating it into machine instructions without requiring pre-compilation. This allows for rapid testing and debugging.\n",
        "\n",
        "**3. What are pre-defined keywords in Python?**\n",
        "\n",
        "- Pre-defined keywords are reserved words that have special meanings in Python, such as def, if, else, for, while, and cannot be used as identifiers (variable names).\n",
        "\n",
        "**4. Can keywords be used as variable names?**\n",
        "\n",
        "- No, keywords cannot be used as variable names in Python as they are reserved for language syntax.\n",
        "\n",
        "**5. What is mutability in Python?**\n",
        "\n",
        "- Mutability refers to whether an object’s state can be changed after it is created. Mutable objects (e.g., lists) can be altered, while immutable objects (e.g., tuples) cannot.\n",
        "\n",
        "**6. Why are lists mutable, but tuples are immutable?**\n",
        "\n",
        "- Lists are mutable so their elements can be updated, added, or removed.\n",
        "Tuples are designed to be immutable for hashability and safety when used as dictionary keys or in sets.\n",
        "\n",
        "**7. What is the difference between “==” and “is” operators in Python?**\n",
        "\n",
        "- == checks if two objects have equal values.\n",
        "is checks if two references point to the same object in memory.\n",
        "\n",
        "**8. What are logical operators in Python?**\n",
        "\n",
        "- and, or, and not are logical operators, used to combine conditional statements.\n",
        "\n",
        "**9. What is type casting in Python?**\n",
        "\n",
        "- Type casting is converting one data type to another, such as from an integer to a string.\n",
        "\n",
        "**10. What is the difference between implicit and explicit type casting?**\n",
        "\n",
        "- Implicit casting is done automatically by Python during operations.\n",
        "Explicit casting is when you manually convert data types using functions like int(), float(), or str().\n",
        "\n",
        "**11. What is the purpose of conditional statements in Python?**\n",
        "\n",
        "- Conditional statements (if, elif, else) are used to perform different actions based on different conditions.\n",
        "\n",
        "**12. How does the elif statement work?**\n",
        "\n",
        "- elif stands for \"else if\" and allows for checking multiple expressions after an initial if. It runs only if the previous conditions are false.\n",
        "\n",
        "**13. What is the difference between for and while loops?**\n",
        "\n",
        "- for loops iterate over a sequence (e.g., list, range).\n",
        "while loops run as long as a condition is true, regardless of the number of iterations.\n",
        "\n",
        "**14. Describe a scenario where a while loop is more suitable than a for loop.**\n",
        "\n",
        "- A while loop is better when the number of iterations is not known in advance, such as reading user input until a certain value is entered.\n"
      ],
      "metadata": {
        "id": "mZyVCZ1i6Oja"
      }
    },
    {
      "cell_type": "markdown",
      "source": [
        "#             **Practical Questions Answers**"
      ],
      "metadata": {
        "id": "h31xWfTI8S1o"
      }
    },
    {
      "cell_type": "code",
      "execution_count": null,
      "metadata": {
        "colab": {
          "base_uri": "https://localhost:8080/"
        },
        "id": "3OuruGzkkT0i",
        "outputId": "5a421f1a-85da-494c-efbb-c228eab99fc4"
      },
      "outputs": [
        {
          "output_type": "stream",
          "name": "stdout",
          "text": [
            "Hello, World!\n"
          ]
        }
      ],
      "source": [
        "# 1. Write a Python program to print \"Hello, World!\"\n",
        "\n",
        "print(\"Hello, World!\")"
      ]
    },
    {
      "cell_type": "code",
      "source": [
        "# 2. Write a Python program that displays your name and age.\n",
        "\n",
        "name = \"Raj Chhapariya\"\n",
        "age = 23\n",
        "\n",
        "print(\"Name: \",name)\n",
        "print(\"Age: \",age)"
      ],
      "metadata": {
        "colab": {
          "base_uri": "https://localhost:8080/"
        },
        "id": "RN5ciUtik9tz",
        "outputId": "9e43c243-d46b-41c9-ab5d-5eb66f6dd403"
      },
      "execution_count": null,
      "outputs": [
        {
          "output_type": "stream",
          "name": "stdout",
          "text": [
            "Name:  Raj Chhapariya\n",
            "Age:  23\n"
          ]
        }
      ]
    },
    {
      "cell_type": "code",
      "source": [
        "# 3. Write code to print all the pre-defined keywords in Python using the keyword library.\n",
        "\n",
        "#1st way:-\n",
        "import keyword\n",
        "print(keyword.kwlist)\n",
        "\n",
        "#2nd way:-\n",
        "help('keywords')"
      ],
      "metadata": {
        "colab": {
          "base_uri": "https://localhost:8080/"
        },
        "id": "zDdsP-k9lUBb",
        "outputId": "c845c513-79ac-496d-d09e-e08a216c7511"
      },
      "execution_count": null,
      "outputs": [
        {
          "output_type": "stream",
          "name": "stdout",
          "text": [
            "['False', 'None', 'True', 'and', 'as', 'assert', 'async', 'await', 'break', 'class', 'continue', 'def', 'del', 'elif', 'else', 'except', 'finally', 'for', 'from', 'global', 'if', 'import', 'in', 'is', 'lambda', 'nonlocal', 'not', 'or', 'pass', 'raise', 'return', 'try', 'while', 'with', 'yield']\n",
            "\n",
            "Here is a list of the Python keywords.  Enter any keyword to get more help.\n",
            "\n",
            "False               class               from                or\n",
            "None                continue            global              pass\n",
            "True                def                 if                  raise\n",
            "and                 del                 import              return\n",
            "as                  elif                in                  try\n",
            "assert              else                is                  while\n",
            "async               except              lambda              with\n",
            "await               finally             nonlocal            yield\n",
            "break               for                 not                 \n",
            "\n"
          ]
        }
      ]
    },
    {
      "cell_type": "code",
      "source": [
        "# 4. Write a program that checks if a given word is a Python keyword.\n",
        "\n",
        "import keyword\n",
        "\n",
        "word = input(\"Enter a word to check is it is Python keyword or not: \")\n",
        "\n",
        "if keyword.iskeyword(word):\n",
        "    print(f\"{word} is a Python keyword.\")\n",
        "else:\n",
        "    print(f\"{word} is not a Python keyword.\")"
      ],
      "metadata": {
        "colab": {
          "base_uri": "https://localhost:8080/"
        },
        "id": "DBcRdVyLluhi",
        "outputId": "74b423c8-2a4f-4517-fb33-98a91a599e9c"
      },
      "execution_count": null,
      "outputs": [
        {
          "output_type": "stream",
          "name": "stdout",
          "text": [
            "Enter a word to check is it is Python keyword or not: else\n",
            "else is a Python keyword.\n"
          ]
        }
      ]
    },
    {
      "cell_type": "code",
      "source": [
        "# 5. Create a list and tuple in Python, and demonstrate how attempting to change an element works differently for each.\n",
        "\n",
        "list = [\"Raj\", 23, 45.55, True]\n",
        "tuple = (\"Raj\", 23, 45.55, True)\n",
        "\n",
        "list[0] = \"Rajveer\"\n",
        "print(list)\n",
        "\n",
        "tuple[0] = \"66\"\n",
        "print(tuple)"
      ],
      "metadata": {
        "colab": {
          "base_uri": "https://localhost:8080/",
          "height": 211
        },
        "id": "8o5gVoWQmGeD",
        "outputId": "d46cd8e4-acd7-4efd-a6fa-2baeb84cac3d"
      },
      "execution_count": null,
      "outputs": [
        {
          "output_type": "stream",
          "name": "stdout",
          "text": [
            "['Rajveer', 23, 45.55, True]\n"
          ]
        },
        {
          "output_type": "error",
          "ename": "TypeError",
          "evalue": "'tuple' object does not support item assignment",
          "traceback": [
            "\u001b[0;31m---------------------------------------------------------------------------\u001b[0m",
            "\u001b[0;31mTypeError\u001b[0m                                 Traceback (most recent call last)",
            "\u001b[0;32m/tmp/ipython-input-1742705223.py\u001b[0m in \u001b[0;36m<cell line: 0>\u001b[0;34m()\u001b[0m\n\u001b[1;32m      7\u001b[0m \u001b[0mprint\u001b[0m\u001b[0;34m(\u001b[0m\u001b[0mlist\u001b[0m\u001b[0;34m)\u001b[0m\u001b[0;34m\u001b[0m\u001b[0;34m\u001b[0m\u001b[0m\n\u001b[1;32m      8\u001b[0m \u001b[0;34m\u001b[0m\u001b[0m\n\u001b[0;32m----> 9\u001b[0;31m \u001b[0mtuple\u001b[0m\u001b[0;34m[\u001b[0m\u001b[0;36m0\u001b[0m\u001b[0;34m]\u001b[0m \u001b[0;34m=\u001b[0m \u001b[0;34m\"66\"\u001b[0m\u001b[0;34m\u001b[0m\u001b[0;34m\u001b[0m\u001b[0m\n\u001b[0m\u001b[1;32m     10\u001b[0m \u001b[0mprint\u001b[0m\u001b[0;34m(\u001b[0m\u001b[0mtuple\u001b[0m\u001b[0;34m)\u001b[0m\u001b[0;34m\u001b[0m\u001b[0;34m\u001b[0m\u001b[0m\n",
            "\u001b[0;31mTypeError\u001b[0m: 'tuple' object does not support item assignment"
          ]
        }
      ]
    },
    {
      "cell_type": "code",
      "source": [
        "# 6. Write a function to demonstrate the behavior of mutable and immutable arguments.\n",
        "\n",
        "def demo_mutable_immutable(mutable_obj, immutable_obj):\n",
        "    mutable_obj.append(99)\n",
        "    immutable_obj += 1\n",
        "    print(\"Mutable object:\", mutable_obj)\n",
        "    print(\"Immutable object:\", immutable_obj)\n",
        "my_list = [1, 2, 3, 4, 5]\n",
        "my_int = 91\n",
        "demo_mutable_immutable(my_list, my_int)\n"
      ],
      "metadata": {
        "colab": {
          "base_uri": "https://localhost:8080/"
        },
        "id": "SZ8ZnENong9N",
        "outputId": "3524dec5-93d6-4898-aea6-85665fda38b1"
      },
      "execution_count": null,
      "outputs": [
        {
          "output_type": "stream",
          "name": "stdout",
          "text": [
            "Mutable object: [1, 2, 3, 4, 5, 99]\n",
            "Immutable object: 92\n"
          ]
        }
      ]
    },
    {
      "cell_type": "code",
      "source": [
        "# 7. Write a program that performs basic arithmetic operations on two user-input numbers.\n",
        "\n",
        "x = int(input(\"Enter first number: \"))\n",
        "y = int(input(\"Enter second number: \"))\n",
        "\n",
        "print(\"Addition: \", x + y)\n",
        "print(\"Subtraction: \", x - y)\n",
        "print(\"Multiplication: \", x * y)\n",
        "print(\"Division: \", x / y)\n",
        "print(\"Modulus: \", x % y)\n",
        "print(\"Floor Division: \", x // y)\n",
        "print(\"Exponent \", x ** y)"
      ],
      "metadata": {
        "colab": {
          "base_uri": "https://localhost:8080/"
        },
        "id": "RqUcqNT9nkDp",
        "outputId": "3d72f3b4-56b4-4ad7-820b-f46fa73039bb"
      },
      "execution_count": null,
      "outputs": [
        {
          "output_type": "stream",
          "name": "stdout",
          "text": [
            "Enter first number: 3\n",
            "Enter second number: 2\n",
            "Addition:  5\n",
            "Subtraction:  1\n",
            "Multiplication:  6\n",
            "Division:  1.5\n",
            "Modulus:  1\n",
            "Floor Division:  1\n",
            "Exponent  9\n"
          ]
        }
      ]
    },
    {
      "cell_type": "code",
      "source": [
        "# 8.  Write a program to demonstrate the use of logical operators.\n",
        "x = True\n",
        "y = False\n",
        "print(\"x and y:\", x and y)\n",
        "print(\"x or y:\", x or y)\n",
        "print(\"not x:\", not x)"
      ],
      "metadata": {
        "colab": {
          "base_uri": "https://localhost:8080/"
        },
        "id": "4Iq-sPeqoaOX",
        "outputId": "3313c24a-74d0-401e-f15f-dffb5503e0bc"
      },
      "execution_count": null,
      "outputs": [
        {
          "output_type": "stream",
          "name": "stdout",
          "text": [
            "x and y: False\n",
            "x or y: True\n",
            "not x: False\n"
          ]
        }
      ]
    },
    {
      "cell_type": "code",
      "source": [
        "# 9.  Write a Python program to convert user input from string to integer, float, and boolean types.\n",
        "\n",
        "input_str = input(\"Enter a string: \")\n",
        "\n",
        "print(\"String to Integer:\", int(input_str))\n",
        "print(\"String to Float:\", float(input_str))\n",
        "print(\"String to Boolean:\", bool(input_str))"
      ],
      "metadata": {
        "colab": {
          "base_uri": "https://localhost:8080/"
        },
        "id": "YjD7Q9poo0KW",
        "outputId": "57b8e2a5-be3a-40d1-e418-463f95b0a56a"
      },
      "execution_count": null,
      "outputs": [
        {
          "output_type": "stream",
          "name": "stdout",
          "text": [
            "Enter a string: 45\n",
            "String to Integer: 45\n",
            "String to Float: 45.0\n",
            "String to Boolean: True\n"
          ]
        }
      ]
    },
    {
      "cell_type": "code",
      "source": [
        "# 10. Write code to demonstrate type casting with list elements.\n",
        "\n",
        "list = ['1', '2', '3']\n",
        "list = [float(i) for i in list]\n",
        "print(list)\n"
      ],
      "metadata": {
        "colab": {
          "base_uri": "https://localhost:8080/"
        },
        "id": "WyZS_0wQpYeT",
        "outputId": "29755756-5c8a-47ac-c790-fc0b14f8dc1f"
      },
      "execution_count": null,
      "outputs": [
        {
          "output_type": "stream",
          "name": "stdout",
          "text": [
            "[1.0, 2.0, 3.0]\n"
          ]
        }
      ]
    },
    {
      "cell_type": "code",
      "source": [
        "# 11. Write a program that checks if a number is positive, negative, or zero.\n",
        "\n",
        "num = int(input(\"Enter a number: \"))\n",
        "\n",
        "if num > 0:\n",
        "  print(\"Number is positive\")\n",
        "elif num < 0:\n",
        "  print(\"Number is negative\")\n",
        "else:\n",
        "  print(\"Number is zero\")"
      ],
      "metadata": {
        "colab": {
          "base_uri": "https://localhost:8080/"
        },
        "id": "AHw96aIep2t0",
        "outputId": "82916fc8-207a-4d1d-aa29-b29c4a9845d2"
      },
      "execution_count": null,
      "outputs": [
        {
          "output_type": "stream",
          "name": "stdout",
          "text": [
            "Enter a number: -88\n",
            "Number is negative\n"
          ]
        }
      ]
    },
    {
      "cell_type": "code",
      "source": [
        "# 12. Write a for loop to print numbers from 1 to 10.\n",
        "\n",
        "for i in range(1, 11):\n",
        "  print(i)"
      ],
      "metadata": {
        "colab": {
          "base_uri": "https://localhost:8080/"
        },
        "id": "ukAfvr5yqO0o",
        "outputId": "22784c4e-876d-4adb-9fd9-97227b36cb09"
      },
      "execution_count": null,
      "outputs": [
        {
          "output_type": "stream",
          "name": "stdout",
          "text": [
            "1\n",
            "2\n",
            "3\n",
            "4\n",
            "5\n",
            "6\n",
            "7\n",
            "8\n",
            "9\n",
            "10\n"
          ]
        }
      ]
    },
    {
      "cell_type": "code",
      "source": [
        "# 13. Write a Python program to find the sum of all even numbers between 1 and 50.\n",
        "sum = 0\n",
        "for i in range(1, 51):\n",
        "  if(i % 2 == 0):\n",
        "      sum += i\n",
        "print(\"Sum of even numbers from 1 to 50:\",sum)"
      ],
      "metadata": {
        "colab": {
          "base_uri": "https://localhost:8080/"
        },
        "id": "CRbLgN2krNm5",
        "outputId": "b1846a86-ae72-4f00-a877-18692df89b66"
      },
      "execution_count": null,
      "outputs": [
        {
          "output_type": "stream",
          "name": "stdout",
          "text": [
            "Sum of even numbers from 1 to 50: 650\n"
          ]
        }
      ]
    },
    {
      "cell_type": "code",
      "source": [
        "# 14. Write a program to reverse a string using a while loop.\n",
        "\n",
        "str = input(\"Enter a string: \")\n",
        "\n",
        "rev = \"\"\n",
        "\n",
        "i = len(str) - 1\n",
        "while i >= 0 :\n",
        "      rev += str[i]\n",
        "      i -= 1\n",
        "print(\"Reversed string:\", rev)"
      ],
      "metadata": {
        "colab": {
          "base_uri": "https://localhost:8080/"
        },
        "id": "Cc_0oBi0r1ev",
        "outputId": "9e41c330-bd4f-4abf-909d-2d8bc0460ab3"
      },
      "execution_count": null,
      "outputs": [
        {
          "output_type": "stream",
          "name": "stdout",
          "text": [
            "Enter a string: raj\n",
            "Reversed string: jar\n"
          ]
        }
      ]
    },
    {
      "cell_type": "code",
      "source": [
        "# 15. Write a Python program to calculate the factorial of a number provided by the user using a while loop.\n",
        "\n",
        "num = int(input(\"Enter a number: \"))\n",
        "\n",
        "fact = 1\n",
        "i = 1\n",
        "while i <= num:\n",
        "  fact *= i\n",
        "  i += 1\n",
        "print(\"Factorial of\", num, \"is\", fact)"
      ],
      "metadata": {
        "colab": {
          "base_uri": "https://localhost:8080/"
        },
        "id": "zhA1M4BUuBxc",
        "outputId": "2dd41764-dd81-45ee-ddf7-82d87a518034"
      },
      "execution_count": null,
      "outputs": [
        {
          "output_type": "stream",
          "name": "stdout",
          "text": [
            "Enter a number: 5\n",
            "Factorial of 5 is 120\n"
          ]
        }
      ]
    }
  ]
}