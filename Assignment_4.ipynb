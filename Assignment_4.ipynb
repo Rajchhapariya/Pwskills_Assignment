{
  "nbformat": 4,
  "nbformat_minor": 0,
  "metadata": {
    "colab": {
      "provenance": []
    },
    "kernelspec": {
      "name": "python3",
      "display_name": "Python 3"
    },
    "language_info": {
      "name": "python"
    }
  },
  "cells": [
    {
      "cell_type": "markdown",
      "source": [
        "# **Theory Answers**\n",
        "\n",
        "**1. What is Object-Oriented Programming (OOP)?**\n",
        "\n",
        "- OOP is a programming paradigm based on the concept of \"objects,\" which can contain data in the form of fields (attributes or properties) and code in the form of methods (functions). It enables modular, reusable, and organized code by modeling real-world entities as objects.\n",
        "\n",
        "**2. What is a class in OOP?**\n",
        "\n",
        "- A class is a blueprint for creating objects. It defines attributes and methods that describe the behavior and properties of objects.\n",
        "\n",
        "**3. What is an object in OOP?**\n",
        "\n",
        "- An object is an instance of a class. It represents a specific entity with the attributes and behaviors defined in its class.\n",
        "\n",
        "**4. What is the difference between abstraction and encapsulation?**\n",
        "\n",
        "- Abstraction is hiding complex implementation details and exposing only the necessary features, letting programmers focus on high-level functionalities.\n",
        "\n",
        "- Encapsulation involves bundling data (attributes) and methods into a single unit (class) and restricting direct access to some components, enhancing security and integrity.\n",
        "\n",
        "**5. What are dunder methods in Python?**\n",
        "\n",
        "- Dunder (double underscore) methods, also known as magic methods, are special methods with names surrounded by double underscores (e.g., __init__, __str__, __repr__). They allow custom behavior for built-in Python operations.\n",
        "\n",
        "**6. Explain the concept of inheritance in OOP.**\n",
        "\n",
        "- Inheritance allows a class (child/subclass) to inherit attributes and methods from another class (parent/superclass), promoting code reuse and hierarchical class relationships.\n",
        "\n",
        "**7. What is polymorphism in OOP?**\n",
        "\n",
        "- Polymorphism enables objects of different classes to be treated as instances of a common superclass. The same method or operation behaves differently on different classes, depending on their implementation.\n",
        "\n",
        "**8. How is encapsulation achieved in Python?**\n",
        "\n",
        "- Encapsulation is achieved by defining private or protected attributes/methods using naming conventions (e.g., prefixing with _ or __) and using property decorators to control attribute access.\n",
        "\n",
        "**9. What is a constructor in Python?**\n",
        "\n",
        "- A constructor (__init__ method) is a special method called when an object is instantiated. It initializes the object's attributes.\n",
        "\n",
        "**10. What are class and static methods in Python?**\n",
        "\n",
        "- Class methods (decorated with @classmethod) receive the class as their first argument (cls) and can modify class state.\n",
        "\n",
        "- Static methods (decorated with @staticmethod) do not access the class or instance state and behave like regular functions within the class.\n",
        "\n",
        "**11. What is method overloading in Python?**\n",
        "\n",
        "- Python does not support method overloading directly. Instead, it achieves similar effects using default parameters or variable-length arguments in methods.\n",
        "\n",
        "**12. What is method overriding in OOP?**\n",
        "\n",
        "- Method overriding allows a subclass to provide a specific implementation of a method that is already defined in its superclass.\n",
        "\n",
        "**13. What is a property decorator in Python?**\n",
        "\n",
        "- The @property decorator allows defining getter methods to access private attributes as properties, often used to implement encapsulation in a Pythonic way.\n",
        "\n",
        "**14. Why is polymorphism important in OOP?**\n",
        "\n",
        "- Polymorphism enables flexibility and extensibility, allowing new classes to be introduced seamlessly into existing code structures and methods to operate on objects of different classes.\n",
        "\n",
        "**15. What is an abstract class in Python?**\n",
        "\n",
        "- An abstract class contains one or more abstract methods (methods without implementation) and cannot be instantiated. It’s often defined using the abc module.\n",
        "\n",
        "**16. What are the advantages of OOP?**\n",
        "\n",
        "- Code reusability via inheritance\n",
        "\n",
        "- Modularity and easier code maintenance\n",
        "\n",
        "- Enhanced security via encapsulation\n",
        "\n",
        "- Flexibility and extensibility via polymorphism\n",
        "\n",
        "- Models real-world entities intuitively\n",
        "\n",
        "**17. What is the difference between a class variable and an instance variable?**\n",
        "\n",
        "- Class variable: Shared among all instances of the class.\n",
        "\n",
        "- Instance variable: Unique to each object instance.\n",
        "\n",
        "**18. What is multiple inheritance in Python?**\n",
        "\n",
        "- Multiple inheritance is when a class inherits from more than one parent class, combining their attributes and methods.\n",
        "\n",
        "**19. Explain the purpose of __str__ and __repr__ methods in Python.**\n",
        "\n",
        "- __str__: Returns a user-friendly string representation of an object, used by print().\n",
        "\n",
        "- __repr__: Returns an unambiguous string representation of an object, used mostly for debugging.\n",
        "\n",
        "**20. What is the significance of the super() function in Python?**\n",
        "\n",
        "- super() returns a proxy object that delegates method calls to a parent or sibling class, enabling you to call overridden methods in inheritance hierarchies.\n",
        "\n",
        "**21. What is the significance of the __del__ method in Python?**\n",
        "\n",
        "- The __del__ method is a destructor called when an object is about to be destroyed, used for cleanup. It should be used sparingly due to unpredictability in garbage collection.\n",
        "\n",
        "**22. What is the difference between @staticmethod and @classmethod in Python?**\n",
        "\n",
        "- @staticmethod does not receive any implicit first argument and cannot access or modify class or instance state.\n",
        "\n",
        "- @classmethod receives the class as the first argument and can modify class state.\n",
        "\n",
        "**23. How does polymorphism work in Python with inheritance?**\n",
        "\n",
        "- Polymorphism allows a base class reference to point to objects of its subclasses. Methods can be called on these references, and Python will execute the subclass's version if it exists (dynamic method resolution).\n",
        "\n",
        "**24. What is method chaining in Python OOP?**\n",
        "\n",
        "- Method chaining occurs when methods return self (the instance), so multiple methods can be called in a single statement (e.g., obj.method1().method2()).\n",
        "\n",
        "**25. What is the purpose of the __call__ method in Python?**\n",
        "\n",
        "- Defining __call__ in a class makes its instances callable like functions, enabling additional flexibility in object behavior.\n"
      ],
      "metadata": {
        "id": "p8qU-Omr_KQK"
      }
    },
    {
      "cell_type": "markdown",
      "source": [
        "# **Practical Questions**"
      ],
      "metadata": {
        "id": "9grQI3_0YFek"
      }
    },
    {
      "cell_type": "code",
      "execution_count": null,
      "metadata": {
        "colab": {
          "base_uri": "https://localhost:8080/"
        },
        "id": "tqslmjt3YCiM",
        "outputId": "b3b0c4f8-acf1-4d42-e715-2fe1a28558e5"
      },
      "outputs": [
        {
          "output_type": "stream",
          "name": "stdout",
          "text": [
            "Bark!\n"
          ]
        }
      ],
      "source": [
        "# 1.  Create a parent class Animal with a method speak() that prints a generic message. Create a child class Dog that overrides the speak() method to print \"Bark!\".\n",
        "\n",
        "class Animal:\n",
        "    def speak(self):\n",
        "        return f\"Hello\"\n",
        "\n",
        "class Dog(Animal):\n",
        "    def speak(self):\n",
        "        return f\"Bark!\"\n",
        "\n",
        "obj = Dog()\n",
        "print(obj.speak())"
      ]
    },
    {
      "cell_type": "code",
      "source": [
        "# 2.Write a program to create an abstract class Shape with a method area(). Derive classes Circle and Rectangle from it and implement the area() method in both.\n",
        "\n",
        "from abc import ABC, abstractmethod\n",
        "\n",
        "class Shape(ABC):\n",
        "    @abstractmethod\n",
        "    def area(self):\n",
        "        pass\n",
        "\n",
        "class Circle(Shape):\n",
        "    def __init__(self, radius):\n",
        "        self.radius = radius\n",
        "\n",
        "    def area(self):\n",
        "        return f\"Area of circle is: {3.14 * self.radius ** 2}\"\n",
        "\n",
        "class Rectangle(Shape):\n",
        "    def __init__(self, length, breadth):\n",
        "        self.length = length\n",
        "        self.breadth = breadth\n",
        "\n",
        "    def area(self):\n",
        "        return f\"Area of rectangle is: {self.length * self.breadth}\"\n",
        "\n",
        "c = Circle(2)\n",
        "print(c.area())\n",
        "\n",
        "r = Rectangle(2, 3)\n",
        "print(r.area())"
      ],
      "metadata": {
        "colab": {
          "base_uri": "https://localhost:8080/"
        },
        "id": "sC0jtNWaZyNU",
        "outputId": "ec45624e-7129-46e8-f393-8a0da6f0c32b"
      },
      "execution_count": null,
      "outputs": [
        {
          "output_type": "stream",
          "name": "stdout",
          "text": [
            "Area of circle is: 12.56\n",
            "Area of rectangle is: 6\n"
          ]
        }
      ]
    },
    {
      "cell_type": "code",
      "source": [
        "# 3. Implement a multi-level inheritance scenario where a class Vehicle has an attribute type. Derive a class Car and further derive a class ElectricCar that adds a battery attribute\n",
        "\n",
        "class Vehicle:\n",
        "\n",
        "    def __init__(self, vehicle_type):\n",
        "        self.vehicle_type = vehicle_type\n",
        "\n",
        "    def display_type(self):\n",
        "        return f\"Vehicle type : {self.vehicle_type}\"\n",
        "\n",
        "class Car(Vehicle):\n",
        "\n",
        "    def __init__(self, vehicle_type, brand):\n",
        "        Vehicle.__init__(self, vehicle_type)\n",
        "        self.brand = brand\n",
        "\n",
        "    def display_car(self):\n",
        "        return f\"{self.display_type()}, Brand : {self.brand}\"\n",
        "\n",
        "class ElectricCar(Car):\n",
        "\n",
        "    def __init__(self, vehicle_type, brand, battery):\n",
        "        Car.__init__(self, vehicle_type, brand)\n",
        "        self.battery = battery\n",
        "\n",
        "    def display_battery(self):\n",
        "        return f\"{self.display_car()}, Battery : {self.battery}\"\n",
        "\n",
        "\n",
        "e = ElectricCar(\"Car\", \"Tesla\", \"75 KWh\")\n",
        "print(e.display_battery())\n"
      ],
      "metadata": {
        "colab": {
          "base_uri": "https://localhost:8080/"
        },
        "id": "c-xOB3XaeJep",
        "outputId": "c7caeeb7-81dc-4761-c7d9-4275884ccbc7"
      },
      "execution_count": null,
      "outputs": [
        {
          "output_type": "stream",
          "name": "stdout",
          "text": [
            "Vehicle type : Car, Brand : Tesla, Battery : 75 KWh\n"
          ]
        }
      ]
    },
    {
      "cell_type": "code",
      "source": [
        "# 4. Demonstrate polymorphism by creating a base class Bird with a method fly(). Create two derived classes Sparrow and Penguin that override the fly() method.\n",
        "\n",
        "class Bird:\n",
        "    def fly(self):\n",
        "        return f\"The bird is flying.\"\n",
        "\n",
        "class Sparrow(Bird):\n",
        "    def fly(self):\n",
        "        return f\"The bird Sparrow is flying.\"\n",
        "\n",
        "class Penguin(Bird):\n",
        "    def fly(self):\n",
        "        return f\"The bird Penguin is walking on ice.\"\n",
        "\n",
        "b = Bird()\n",
        "print(b.fly())\n",
        "\n",
        "s = Sparrow()\n",
        "print(s.fly())\n",
        "\n",
        "p = Penguin()\n",
        "print(p.fly())"
      ],
      "metadata": {
        "colab": {
          "base_uri": "https://localhost:8080/"
        },
        "id": "8LOAJ2RQlFrs",
        "outputId": "1c3e78bf-2ca8-4e5e-c698-d3f6272d15a9"
      },
      "execution_count": null,
      "outputs": [
        {
          "output_type": "stream",
          "name": "stdout",
          "text": [
            "The bird is flying.\n",
            "The bird Sparrow is flying.\n",
            "The bird Penguin is walking on ice.\n"
          ]
        }
      ]
    },
    {
      "cell_type": "code",
      "source": [
        "# 5. Write a program to demonstrate encapsulation by creating a class BankAccount with private attributes balance and methods to deposit, withdraw, and check balance.\n",
        "\n",
        "class BankAccount:\n",
        "\n",
        "    def __init__(self, initial_balance=1200):\n",
        "        self.__balance = initial_balance\n",
        "\n",
        "    def deposit(self, amount):\n",
        "        if amount > 0:\n",
        "            self.__balance += amount\n",
        "            return f\"Deposited: {amount}, New Balance: {self.__balance}\"\n",
        "        return \"Deposit must be positive\"\n",
        "\n",
        "    def withdraw(self, amount):\n",
        "        if 0 < amount <= self.__balance:\n",
        "            self.__balance -= amount\n",
        "            return f\"Withdrawn: {amount}, Remaining Balance: {self.__balance}\"\n",
        "        return \"Insufficient balance or invalid withdrawal amount\"\n",
        "\n",
        "    def check_balance(self):\n",
        "        return f\"Current Balance: {self.__balance}\"\n",
        "\n",
        "\n",
        "# Usage\n",
        "acc = BankAccount()\n",
        "print(acc.deposit(500))\n",
        "print(acc.withdraw(1500))\n",
        "print(acc.check_balance())\n"
      ],
      "metadata": {
        "colab": {
          "base_uri": "https://localhost:8080/"
        },
        "id": "qCkPTEDKqqTX",
        "outputId": "17180c63-dd0a-4dd0-f3a5-137ce539e965"
      },
      "execution_count": null,
      "outputs": [
        {
          "output_type": "stream",
          "name": "stdout",
          "text": [
            "Deposited: 500, New Balance: 1700\n",
            "Withdrawn: 1500, Remaining Balance: 200\n",
            "Current Balance: 200\n"
          ]
        }
      ]
    },
    {
      "cell_type": "code",
      "source": [
        "# 6. Demonstrate runtime polymorphism using a method play() in a base class Instrument. Derive classes Guitar and Piano that implement their own version of play().\n",
        "\n",
        "class Instrument:\n",
        "    def play(self):\n",
        "        return \"I am Instrument.\"\n",
        "\n",
        "class Guitar(Instrument):\n",
        "    def play(self):\n",
        "        return \"I am Guitar.\"\n",
        "\n",
        "class Piano(Instrument):\n",
        "    def play(self):\n",
        "        return \"I am Piano.\"\n",
        "\n",
        "instruments = [Instrument(), Guitar(), Piano()]\n",
        "\n",
        "for inst in instruments:\n",
        "    print(inst.play())"
      ],
      "metadata": {
        "colab": {
          "base_uri": "https://localhost:8080/"
        },
        "id": "pqnYhCb8sAzY",
        "outputId": "37980448-28ef-4b99-bca6-1e5ea4c4bcb8"
      },
      "execution_count": null,
      "outputs": [
        {
          "output_type": "stream",
          "name": "stdout",
          "text": [
            "I am Instrument.\n",
            "I am Guitar.\n",
            "I am Piano.\n"
          ]
        }
      ]
    },
    {
      "cell_type": "code",
      "source": [
        "# 7. Create a class MathOperations with a class method add_numbers() to add two numbers and a static method subtract_numbers() to subtract two numbers.\n",
        "\n",
        "class MathOperations:\n",
        "\n",
        "    @classmethod\n",
        "    def add_numbers(cls, x, y):\n",
        "        return f\"The sum of {x} and {y} is {x + y}\"\n",
        "\n",
        "    @staticmethod\n",
        "    def subtract_numbers(x, y):\n",
        "        return f\"The subtraction of {x} and {y} is {x - y}\"\n",
        "\n",
        "print(MathOperations.add_numbers(6, 9))\n",
        "\n",
        "M = MathOperations()\n",
        "print(M.add_numbers(2, 3))\n",
        "\n",
        "print(MathOperations.subtract_numbers(5, 2))"
      ],
      "metadata": {
        "colab": {
          "base_uri": "https://localhost:8080/"
        },
        "id": "O223gT4CsEKM",
        "outputId": "973c395b-d90a-4bbe-e0eb-7627cbbde13a"
      },
      "execution_count": null,
      "outputs": [
        {
          "output_type": "stream",
          "name": "stdout",
          "text": [
            "The sum of 6 and 9 is 15\n",
            "The sum of 2 and 3 is 5\n",
            "The subtraction of 5 and 2 is 3\n"
          ]
        }
      ]
    },
    {
      "cell_type": "code",
      "source": [
        "# 8. Implement a class Person with a class method to count the total number of persons created.\n",
        "\n",
        "class Person:\n",
        "\n",
        "    counter = 0\n",
        "\n",
        "    def __init__(self, name):\n",
        "        self.name = name\n",
        "\n",
        "        Person.counter += 1\n",
        "\n",
        "    @classmethod\n",
        "    def count(cls):\n",
        "        return f\"The total number of persons are {Person.counter}\"\n",
        "\n",
        "obj1 = Person(\"Raj\")\n",
        "obj2 = Person(\"Rajesh\")\n",
        "obj3 = Person(\"Rajveer\")\n",
        "obj4 = Person(\"Rajan\")\n",
        "obj5 = Person(\"Rajat\")\n",
        "\n",
        "print(Person.count())"
      ],
      "metadata": {
        "colab": {
          "base_uri": "https://localhost:8080/"
        },
        "id": "r6G9-Px-ts8V",
        "outputId": "583ecc61-ff77-4873-ebe4-2ed0df650bad"
      },
      "execution_count": null,
      "outputs": [
        {
          "output_type": "stream",
          "name": "stdout",
          "text": [
            "The total number of persons are 5\n"
          ]
        }
      ]
    },
    {
      "cell_type": "code",
      "source": [
        "# 9. Write a class Fraction with attributes numerator and denominator. Override the str method to display the fraction as \"numerator/denominator\".\n",
        "\n",
        "class Fraction:\n",
        "\n",
        "    def __init__(self, numerator, denominator):\n",
        "        self.numerator = numerator\n",
        "        self.denominator = denominator\n",
        "\n",
        "    def __str__(self):\n",
        "        return f\"{self.numerator}/{self.denominator}\"\n",
        "\n",
        "\n",
        "f1 = Fraction(1, 2)\n",
        "f2 = Fraction(2, 4)\n",
        "\n",
        "print(f1)\n",
        "print(f2)"
      ],
      "metadata": {
        "colab": {
          "base_uri": "https://localhost:8080/"
        },
        "id": "D_8Prf3SvFXd",
        "outputId": "a75b1917-2dad-4d09-ba28-1969d17b0e1d"
      },
      "execution_count": null,
      "outputs": [
        {
          "output_type": "stream",
          "name": "stdout",
          "text": [
            "1/2\n",
            "2/4\n"
          ]
        }
      ]
    },
    {
      "cell_type": "code",
      "source": [
        "# 10. Demonstrate operator overloading by creating a class Vector and overriding the add method to add two vectors.\n",
        "\n",
        "class Vector():\n",
        "\n",
        "    def __init__(self, x, y):\n",
        "        self.x = x\n",
        "        self.y = y\n",
        "\n",
        "    def __add__(self, other):\n",
        "        return Vector(self.x + other.x, self.y + other.y)\n",
        "\n",
        "    def __str__(self):\n",
        "        return f\"{self.x}, {self.y}\"\n",
        "\n",
        "v1 = Vector(2, 3)\n",
        "v2 = Vector(6, 5)\n",
        "\n",
        "v3 = v1 + v2\n",
        "print(v3)"
      ],
      "metadata": {
        "colab": {
          "base_uri": "https://localhost:8080/"
        },
        "id": "T3vkuCajwMCk",
        "outputId": "f6efd060-db32-4ee0-c1f4-f8da4e0be230"
      },
      "execution_count": null,
      "outputs": [
        {
          "output_type": "stream",
          "name": "stdout",
          "text": [
            "8, 8\n"
          ]
        }
      ]
    },
    {
      "cell_type": "code",
      "source": [
        "# 11. Create a class Person with attributes name and age. Add a method greet() that prints \"Hello, my name is {name} and I am {age} years old.\"\n",
        "\n",
        "class Person:\n",
        "\n",
        "    def __init__(self, name, age):\n",
        "        self.name = name\n",
        "        self.age = age\n",
        "\n",
        "    def greet(self):\n",
        "        print(f\"Hello, my name is {self.name} and I am {self.age} years old.\")\n",
        "\n",
        "p = Person(\"Raj Chhapariya\", 23)\n",
        "p.greet()"
      ],
      "metadata": {
        "colab": {
          "base_uri": "https://localhost:8080/"
        },
        "id": "8qC5VKJaxxdc",
        "outputId": "114bb872-3ce6-4fbc-f40b-14c853eda813"
      },
      "execution_count": null,
      "outputs": [
        {
          "output_type": "stream",
          "name": "stdout",
          "text": [
            "Hello, my name is Raj Chhapariya and I am 23 years old.\n"
          ]
        }
      ]
    },
    {
      "cell_type": "code",
      "source": [
        "# 12. Implement a class Student with attributes name and grades. Create a method average_grade() to compute the average of the grades.\n",
        "\n",
        "class Student:\n",
        "\n",
        "    def __init__(self, name, grades):\n",
        "        self.name = name\n",
        "        self.grades = grades\n",
        "\n",
        "    def average_grade(self):\n",
        "        if len(self.grades) == 0:\n",
        "            return 0\n",
        "        return round(sum(self.grades) / len(self.grades), 2)\n",
        "\n",
        "\n",
        "s1 = Student(\"Raj\", [85, 90, 78, 92])\n",
        "s2 = Student(\"Rohan\", [70, 65, 80])\n",
        "\n",
        "print(f\"{s1.name}'s average grade: {s1.average_grade()}\")\n",
        "print(f\"{s2.name}'s average grade: {s2.average_grade()}\")\n"
      ],
      "metadata": {
        "id": "CW3raPIb0drz",
        "outputId": "1c73462f-a036-40a1-bb91-35f6a6beeca5",
        "colab": {
          "base_uri": "https://localhost:8080/"
        }
      },
      "execution_count": null,
      "outputs": [
        {
          "output_type": "stream",
          "name": "stdout",
          "text": [
            "Raj's average grade: 86.25\n",
            "Rohan's average grade: 71.67\n"
          ]
        }
      ]
    },
    {
      "cell_type": "code",
      "source": [
        "# 13. Create a class Rectangle with methods set_dimensions() to set the dimensions and area() to calculate the area.\n",
        "\n",
        "class Rectangle:\n",
        "\n",
        "    def set_dimensions(self, length, breadth):\n",
        "        self.length = length\n",
        "        self.breadth = breadth\n",
        "\n",
        "    def area(self):\n",
        "        return self.length * self.breadth\n",
        "\n",
        "\n",
        "rect = Rectangle()\n",
        "rect.set_dimensions(10, 5)\n",
        "print(\"Area of rectangle:\", rect.area())"
      ],
      "metadata": {
        "colab": {
          "base_uri": "https://localhost:8080/"
        },
        "id": "WPz6c39U57jn",
        "outputId": "41ab870c-400d-4bcf-dddf-d4c36d3a33f1"
      },
      "execution_count": null,
      "outputs": [
        {
          "output_type": "stream",
          "name": "stdout",
          "text": [
            "Area of rectangle: 50\n"
          ]
        }
      ]
    },
    {
      "cell_type": "code",
      "source": [
        "# 14. Create a class Employee with a method calculate_salary() that computes the salary based on hours worked and hourly rate. Create a derived class Manager that adds a bonus to the salary.\n",
        "\n",
        "class Employee:\n",
        "\n",
        "    def __init__(self, hours_worked, hourly_rate):\n",
        "        self.hours_worked = hours_worked\n",
        "        self.hourly_rate = hourly_rate\n",
        "\n",
        "    def calculate_salary(self):\n",
        "        salary = self.hours_worked * self.hourly_rate\n",
        "        return salary\n",
        "\n",
        "\n",
        "class Manager(Employee):\n",
        "\n",
        "    def __init__(self, hours_worked, hourly_rate, bonus):\n",
        "        super().__init__(hours_worked, hourly_rate)\n",
        "        self.bonus = bonus\n",
        "\n",
        "    def calculate_salary(self):\n",
        "        salary = super().calculate_salary()\n",
        "        return salary + self.bonus\n",
        "\n",
        "e = Employee(9, 200)\n",
        "print(f\"Salary of a employee {e.calculate_salary()}\")\n",
        "\n",
        "m = Manager(9, 200, 300)\n",
        "print(f\"Salary of a employee after addding the bonus {m.calculate_salary()}\")\n"
      ],
      "metadata": {
        "colab": {
          "base_uri": "https://localhost:8080/"
        },
        "id": "oZjyGLDL9gJq",
        "outputId": "93e4c4b3-a279-4bf8-91b0-238c04707932"
      },
      "execution_count": null,
      "outputs": [
        {
          "output_type": "stream",
          "name": "stdout",
          "text": [
            "Salary of a employee 1800\n",
            "Salary of a employee after addding the bonus 2100\n"
          ]
        }
      ]
    },
    {
      "cell_type": "code",
      "source": [
        "# 15. Create a class Product with attributes name, price, and quantity. Implement a method total_price() that calculates the total price of the product.\n",
        "\n",
        "class Product:\n",
        "\n",
        "    def __init__(self, name, price, quantity):\n",
        "        self.name = name\n",
        "        self.price = price\n",
        "        self.quantity = quantity\n",
        "\n",
        "    def total_price(self):\n",
        "        total_price = self.price * self.quantity\n",
        "        return total_price\n",
        "\n",
        "p = Product(\"Raj\", 300, 2)\n",
        "print(f\"{p.name} purchased {p.quantity} items of price {p.price} each which costs Rupees {p.total_price()}.\")\n"
      ],
      "metadata": {
        "colab": {
          "base_uri": "https://localhost:8080/"
        },
        "id": "OzaV43Td9jVN",
        "outputId": "aa0d0acc-4fae-4df5-c2c8-c3e7ccffa9ec"
      },
      "execution_count": null,
      "outputs": [
        {
          "output_type": "stream",
          "name": "stdout",
          "text": [
            "Raj purchased 2 items of price 300 each which costs Rupees 600.\n"
          ]
        }
      ]
    },
    {
      "cell_type": "code",
      "source": [
        "# 16. Create a class Animal with an abstract method sound(). Create two derived classes Cow and Sheep that implement the sound() method.\n",
        "\n",
        "from abc import ABC, abstractmethod\n",
        "\n",
        "class Animal(ABC):\n",
        "    @abstractmethod\n",
        "    def sound(self):\n",
        "        pass\n",
        "\n",
        "class Cow(Animal):\n",
        "    def sound(self):\n",
        "        print(\"I am a cow. Moo!\")\n",
        "\n",
        "class Sheep(Animal):\n",
        "    def sound(self):\n",
        "        print(\"I am a sheep. Baa!\")\n",
        "\n",
        "\n",
        "cow = Cow()\n",
        "cow.sound()\n",
        "\n",
        "sheep = Sheep()\n",
        "sheep.sound()\n"
      ],
      "metadata": {
        "colab": {
          "base_uri": "https://localhost:8080/"
        },
        "id": "I1JBvezJ67Hq",
        "outputId": "2bdbf25f-b251-426e-82ea-bd7ced783ca0"
      },
      "execution_count": 1,
      "outputs": [
        {
          "output_type": "stream",
          "name": "stdout",
          "text": [
            "I am a cow. Moo!\n",
            "I am a sheep. Baa!\n"
          ]
        }
      ]
    },
    {
      "cell_type": "code",
      "source": [
        "# 17. Create a class Book with attributes title, author, and year_published. Add a method get_book_info() that returns a formatted string with the book's details.\n",
        "\n",
        "class Book:\n",
        "\n",
        "    def __init__(self, title, author, year_published):\n",
        "        self.title = title\n",
        "        self.author = author\n",
        "        self.year_published = year_published\n",
        "\n",
        "    def get_book_info(self):\n",
        "        return f\"The book {self.title} was published in {self.year_published} by {self.author}.\"\n",
        "\n",
        "book = Book(\"Rich Dad Poor Dad\", \"Robert Kiyosaki\", 1997)\n",
        "print(book.get_book_info())"
      ],
      "metadata": {
        "colab": {
          "base_uri": "https://localhost:8080/"
        },
        "id": "nN3qaqTq8fIb",
        "outputId": "228813c2-b231-4529-8f12-c6680c00be9d"
      },
      "execution_count": 2,
      "outputs": [
        {
          "output_type": "stream",
          "name": "stdout",
          "text": [
            "The book Rich Dad Poor Dad was published in 1997 by Robert Kiyosaki.\n"
          ]
        }
      ]
    },
    {
      "cell_type": "code",
      "source": [
        "# 18. Create a class House with attributes address and price. Create a derived class Mansion that adds an attribute number_of_rooms.\n",
        "\n",
        "class House:\n",
        "\n",
        "    def __init__(self, address, price):\n",
        "        self.address = address\n",
        "        self.price = price\n",
        "\n",
        "    def get_info(self):\n",
        "        return f\"House located at {self.address}, priced at {self.price}.\"\n",
        "\n",
        "\n",
        "class Mansion(House):\n",
        "\n",
        "    def __init__(self, address, price, number_of_rooms):\n",
        "        super().__init__(address, price)\n",
        "        self.number_of_rooms = number_of_rooms\n",
        "\n",
        "    def get_info(self):\n",
        "        return (f\"Mansion located at {self.address}, priced at {self.price}, \"\n",
        "                f\"with {self.number_of_rooms} rooms.\")\n",
        "\n",
        "\n",
        "house = House(\"D2-27 Noida - 62\", 22500000)\n",
        "print(house.get_info())\n",
        "\n",
        "mansion = Mansion(\"Jodhpur, Rajasthan\", 35000000, 12)\n",
        "print(mansion.get_info())\n"
      ],
      "metadata": {
        "colab": {
          "base_uri": "https://localhost:8080/"
        },
        "id": "pcI2rWXY9nMl",
        "outputId": "7374cf13-d330-4fb8-ac9e-6300ca6475f6"
      },
      "execution_count": 3,
      "outputs": [
        {
          "output_type": "stream",
          "name": "stdout",
          "text": [
            "House located at D2-27 Noida - 62, priced at 22500000.\n",
            "Mansion located at Jodhpur, Rajasthan, priced at 35000000, with 12 rooms.\n"
          ]
        }
      ]
    }
  ]
}