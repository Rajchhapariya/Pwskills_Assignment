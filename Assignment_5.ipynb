{
  "nbformat": 4,
  "nbformat_minor": 0,
  "metadata": {
    "colab": {
      "provenance": []
    },
    "kernelspec": {
      "name": "python3",
      "display_name": "Python 3"
    },
    "language_info": {
      "name": "python"
    }
  },
  "cells": [
    {
      "cell_type": "markdown",
      "source": [
        "# **Theory Questions**\n",
        "\n",
        "1. What is the difference between interpreted and compiled languages?\n",
        "\n",
        "- Answer: Interpreted languages execute code line by line at runtime using an interpreter, resulting in easier debugging but slower performance, while compiled languages are transformed into machine code before execution, leading to faster, more efficient program runs.\n",
        "\n",
        "2. What is exception handling in Python?\n",
        "- Answer: Exception handling in Python allows programs to deal with errors or unexpected situations gracefully by using try, except, and related blocks, enabling error handling without crashing the application.\n",
        "\n",
        "3. What is the purpose of the finally block in exception handling?\n",
        "\n",
        "- Answer: The finally block ensures that a specific section of code is always executed, regardless of whether an exception occurred, commonly used for cleanup actions like releasing resources.\n",
        "\n",
        "4. What is logging in Python?\n",
        "\n",
        "- Answer: Logging is the process of recording diagnostic or operational information during program execution using Python’s logging module, which aids in debugging and monitoring applications.\n",
        "\n",
        "5. What is the significance of the __del__ method in Python?\n",
        "\n",
        "- Answer: The __del__ method acts as a destructor, called when an object is about to be destroyed, allowing resource cleanup, though its invocation timing is not always predictable.\n",
        "\n",
        "6. What is the difference between import and from ... import in Python?\n",
        "\n",
        "- Answer: import module imports the entire module, so functions are accessed with module prefixes; from module import name imports specific elements directly, allowing usage without module qualification.\n",
        "\n",
        "7. How can you handle multiple exceptions in Python?\n",
        "\n",
        "- Answer: Multiple exceptions can be handled by specifying multiple except blocks for different exceptions, or by listing several exceptions in a tuple within a single except block.\n",
        "\n",
        "8. What is the purpose of the with statement when handling files in Python?\n",
        "\n",
        "- Answer: The with statement manages resources by automatically opening and closing files, even if an error occurs, ensuring proper resource release and cleaner code.\n",
        "\n",
        "9. What is the difference between multithreading and multiprocessing?\n",
        "\n",
        "- Answer: Multithreading uses multiple threads within a process for concurrent I/O-bound tasks, while multiprocessing runs separate processes for true parallelism in CPU-bound tasks, bypassing Python’s Global Interpreter Lock (GIL).\n",
        "\n",
        "10. What are the advantages of using logging in a program?\n",
        "\n",
        "- Answer: Logging enables error tracking, auditing, easier debugging, and provides a persistent record for monitoring application behavior and troubleshooting issues.\n",
        "\n",
        "11. What is memory management in Python?\n",
        "- Answer: Memory management in Python involves the automatic allocation and deallocation of memory for objects using mechanisms like reference counting and garbage collection.\n",
        "12. What are the basic steps involved in exception handling in Python?\n",
        "- Answer: The steps are: enclose risky code in a try block, handle exceptions in one or more except blocks, optionally execute code in an else block if no exceptions occur, and use finally for cleanup.\n",
        "13. Why is memory management important in Python?\n",
        "- Answer: Good memory management prevents memory leaks, improves application efficiency, and ensures resources are released properly, supporting stable, scalable programs.\n",
        "14. What is the role of try and except in exception handling?\n",
        "- Answer: The try block contains code that might raise an exception, while the except block specifies how to handle those exceptions to maintain control flow and prevent crashes.\n",
        "15. How does Python's garbage collection system work?\n",
        "- Answer: Python’s garbage collector uses reference counting and a cyclic garbage collector to reclaim memory occupied by objects that are not referenced anymore, preventing memory leaks.\n",
        "16. What is the purpose of the else block in exception handling?\n",
        "- Answer: The else block is executed if the try block runs without any exception, helping to separate normal code from error handling logic.\n",
        "17. What are the common logging levels in Python?\n",
        "- Answer: The common logging levels are DEBUG, INFO, WARNING, ERROR, and CRITICAL, each indicating the severity or importance of log messages.\n",
        "18. What is the difference between os.fork() and multiprocessing in Python?\n",
        "- Answer: os.fork() creates a child process on Unix-like systems at a low level, while the multiprocessing module offers a higher-level, cross-platform way to create processes and manage inter-process communication.\n",
        "19. What is the importance of closing a file in Python?\n",
        "- Answer: Closing a file ensures that data is saved and buffers are flushed, and it releases system resources, preventing file corruption and resource leaks.\n",
        "20. What is the difference between file.read() and file.readline() in Python?\n",
        "- Answer: file.read() reads the entire file or a specified number of bytes, while file.readline() reads one line at a time, suitable for line-by-line processing.\n",
        "21. What is the logging module in Python used for?\n",
        "- Answer: The logging module is used to record messages at different severity levels, support debugging, audit trails, and operational monitoring of Python programs.\n",
        "22. What is the os module in Python used for in file handling?\n",
        "- Answer: The os module provides utilities for interacting with the operating system, such as file creation, deletion, path manipulations, and directory management.\n",
        "23. What are the challenges associated with memory management in Python?\n",
        "- Answer: Key challenges include managing cyclic references, avoiding memory leaks from orphaned objects, and maintaining performance in memory-intensive applications.\n",
        "24. How do you raise an exception manually in Python?\n",
        "- Answer: Use the raise statement followed by an exception type (e.g., raise ValueError(\"message\")) to signal an error intentionally.\n",
        "25. Why is it important to use multithreading in certain applications?\n",
        "- Answer: Multithreading enables responsive applications, allows efficient handling of multiple I/O-bound operations simultaneously, and boosts performance in concurrent scenarios like GUIs or network servers.\n"
      ],
      "metadata": {
        "id": "FP6wEQI10AcC"
      }
    },
    {
      "cell_type": "markdown",
      "source": [
        "# **Practical Questions**"
      ],
      "metadata": {
        "id": "JUKKrxzbOy-A"
      }
    },
    {
      "cell_type": "code",
      "execution_count": null,
      "metadata": {
        "id": "JC2l7PJ9OwfI"
      },
      "outputs": [],
      "source": [
        "# 1. # 1. How can you open a file for writing in Python and write a string to it?\n",
        "\n",
        "with open(\"demo.txt\", \"w\") as file:\n",
        "    file.write(\"Hello, World!\")"
      ]
    },
    {
      "cell_type": "code",
      "source": [
        "# 2. Write a Python program to read the contents of a file and print each line.\n",
        "\n",
        "with open(\"demo.txt\", \"r\") as file:\n",
        "    for line in file:\n",
        "        print(line.strip())"
      ],
      "metadata": {
        "colab": {
          "base_uri": "https://localhost:8080/"
        },
        "id": "5WmKNVQ1SekC",
        "outputId": "33c2f20c-97e6-41d0-94ac-b193286ee771"
      },
      "execution_count": null,
      "outputs": [
        {
          "output_type": "stream",
          "name": "stdout",
          "text": [
            "Hello, World!\n"
          ]
        }
      ]
    },
    {
      "cell_type": "code",
      "source": [
        "# 3. How would you handle a case where the file doesn't exist while trying to open it for reading?\n",
        "\n",
        "try:\n",
        "    with open(\"new.txt\", \"r\") as new_file:\n",
        "        print(new_file.read())\n",
        "except FileNotFoundError as e:\n",
        "    print(\"Error:\", e)\n",
        "else:\n",
        "    print(\"File reading complete.\")\n",
        "finally:\n",
        "    print(\"Program exceuted successfully.\")"
      ],
      "metadata": {
        "colab": {
          "base_uri": "https://localhost:8080/"
        },
        "id": "T48s-ZWoSgtr",
        "outputId": "44cbb4ef-a312-432b-c4e9-dd85a0bbaa2c"
      },
      "execution_count": null,
      "outputs": [
        {
          "output_type": "stream",
          "name": "stdout",
          "text": [
            "Error: [Errno 2] No such file or directory: 'new.txt'\n",
            "Program exceuted successfully.\n"
          ]
        }
      ]
    },
    {
      "cell_type": "code",
      "source": [
        "# 4. Write a Python script that reads from one file and writes its content to another file.\n",
        "\n",
        "with open(\"demo.txt\", \"r\") as file:\n",
        "    content = file.read()\n",
        "\n",
        "with open(\"newest.txt\", \"w\") as f:\n",
        "    f.write(content)"
      ],
      "metadata": {
        "id": "mcLu-fvASik4"
      },
      "execution_count": null,
      "outputs": []
    },
    {
      "cell_type": "code",
      "source": [
        "# 5. How would you catch and handle division by zero error in Python?\n",
        "\n",
        "try:\n",
        "    result = 1/0\n",
        "    print(result)\n",
        "except ZeroDivisionError as e:\n",
        "    print(\"Error:\", e)"
      ],
      "metadata": {
        "colab": {
          "base_uri": "https://localhost:8080/"
        },
        "id": "rQJ_IA0jSj8p",
        "outputId": "f1567666-0b32-4467-a822-ed833ab1f665"
      },
      "execution_count": null,
      "outputs": [
        {
          "output_type": "stream",
          "name": "stdout",
          "text": [
            "Error: division by zero\n"
          ]
        }
      ]
    },
    {
      "cell_type": "code",
      "source": [
        "# 6. Write a Python program that logs an error message to a log file when a division by zero exception occurs.\n",
        "\n",
        "import logging\n",
        "logging.basicConfig(filename = \"logfile.log\", level = logging.ERROR, format = '%(asctime)s %(levelname)s %(message)s')\n",
        "\n",
        "try:\n",
        "    result = 1 / 0\n",
        "except ZeroDivisionError as e:\n",
        "    logging.error(e)\n",
        "\n",
        "logging.shutdown()"
      ],
      "metadata": {
        "colab": {
          "base_uri": "https://localhost:8080/"
        },
        "id": "sX_O0nLSl5JB",
        "outputId": "d026f076-37bc-4b2f-b051-eca95e6a2a36"
      },
      "execution_count": null,
      "outputs": [
        {
          "output_type": "stream",
          "name": "stderr",
          "text": [
            "ERROR:root:division by zero\n"
          ]
        }
      ]
    },
    {
      "cell_type": "code",
      "source": [
        "# 7. How do you log information at different levels (INFO, ERROR, WARNING) in Python using the logging module?\n",
        "\n",
        "import logging\n",
        "logging.basicConfig(filename = \"logfile2.log\", level = logging.INFO, format = '%(asctime)s %(levelname)s %(message)s')\n",
        "\n",
        "logging.info(\"This is the info of the program\")\n",
        "logging.warning(\"Warning message\")\n",
        "logging.error(\"This one is a serious error.\")\n",
        "\n",
        "logging.shutdown()"
      ],
      "metadata": {
        "colab": {
          "base_uri": "https://localhost:8080/"
        },
        "id": "De9vCcSwl938",
        "outputId": "becb7027-a6ef-4f37-f138-86d34e67a9e5"
      },
      "execution_count": null,
      "outputs": [
        {
          "output_type": "stream",
          "name": "stderr",
          "text": [
            "WARNING:root:Warning message\n",
            "ERROR:root:This one is a serious error.\n"
          ]
        }
      ]
    },
    {
      "cell_type": "code",
      "source": [
        "# 8. Write a program to handle a file opening error using exception handling.\n",
        "\n",
        "try:\n",
        "    with open(\"file.txt\", \"r\") as f:\n",
        "        print(f.read())\n",
        "except Exception as e:\n",
        "    print(\"Error:\", e)"
      ],
      "metadata": {
        "colab": {
          "base_uri": "https://localhost:8080/"
        },
        "id": "I9nLCAawmA5l",
        "outputId": "e2b73fa8-8e6d-4807-ad4f-7bebb23c6c4b"
      },
      "execution_count": null,
      "outputs": [
        {
          "output_type": "stream",
          "name": "stdout",
          "text": [
            "Error: [Errno 2] No such file or directory: 'file.txt'\n"
          ]
        }
      ]
    },
    {
      "cell_type": "code",
      "source": [
        "# 9. How can you read a file line by line and store its content in a list in Python?\n",
        "\n",
        "with open(\"test.txt\", \"r\") as file:\n",
        "    lines = [line.strip() for line in file]\n",
        "\n",
        "print(lines)"
      ],
      "metadata": {
        "colab": {
          "base_uri": "https://localhost:8080/"
        },
        "id": "Nr5ZDhhRmFcR",
        "outputId": "be20da50-54ce-4957-8e4c-c21b8dedb2ab"
      },
      "execution_count": null,
      "outputs": [
        {
          "output_type": "stream",
          "name": "stdout",
          "text": [
            "['', 'Hello, This is Raj Chhapariya, it was nice meeting with you. Thank You ..!']\n"
          ]
        }
      ]
    },
    {
      "cell_type": "code",
      "source": [
        "# 10. How can you append data to an existing file in Python?\n",
        "\n",
        "with open(\"test.txt\", \"a\") as file:\n",
        "    file.write(\"\\nHello, This is Raj Chhapariya, it was nice meeting with you. Thank You ..!\")"
      ],
      "metadata": {
        "id": "4QABNSYjmJ_v"
      },
      "execution_count": null,
      "outputs": []
    },
    {
      "cell_type": "code",
      "source": [
        "# 11. Write a Python program that uses a try-except block to handle an error when attempting to access a dictionary key that doesn't exist.\n",
        "\n",
        "dict1 = {\"Name\": \"Raj chhapariya\",\n",
        "         \"Age\": 23}\n",
        "try:\n",
        "    print(dict1[\"Height\"])\n",
        "except Exception as e:\n",
        "    print(\"The key was not found in the dictionary\", e)"
      ],
      "metadata": {
        "colab": {
          "base_uri": "https://localhost:8080/"
        },
        "id": "O-4H6zV1mN2b",
        "outputId": "87525d70-3410-43b9-85cf-97932ddb51ec"
      },
      "execution_count": null,
      "outputs": [
        {
          "output_type": "stream",
          "name": "stdout",
          "text": [
            "The key was not found in the dictionary 'Height'\n"
          ]
        }
      ]
    },
    {
      "cell_type": "code",
      "source": [
        "# 12. Write a program that demonstrates using multiple except blocks to handle different types of exceptions.\n",
        "\n",
        "try:\n",
        "    num = int(input(\"Enter a number: \"))\n",
        "    result = 10 / num\n",
        "    print(\"Result is:\", result)\n",
        "\n",
        "    dict1 = {\"Name\": \"Raj\"}\n",
        "    print(\"Your age is:\", dict1[\"Age\"])\n",
        "\n",
        "except ZeroDivisionError:\n",
        "    print(\"Error: Division by zero is not allowed.\")\n",
        "\n",
        "except ValueError:\n",
        "    print(\"Error: Invalid input. Please enter a number.\")\n",
        "\n",
        "except KeyError as e:\n",
        "    print(f\"Error: The key '{e}' was not found in the dictionary.\")\n",
        "\n",
        "except Exception as e:\n",
        "    print(\"An unexpected error occurred:\", e)\n"
      ],
      "metadata": {
        "colab": {
          "base_uri": "https://localhost:8080/"
        },
        "id": "R3nRGxZkmQKK",
        "outputId": "8f5d4380-067c-46d8-809e-bfab15e24af8"
      },
      "execution_count": null,
      "outputs": [
        {
          "output_type": "stream",
          "name": "stdout",
          "text": [
            "Enter a number: 56\n",
            "Result is: 0.17857142857142858\n",
            "Error: The key ''Age'' was not found in the dictionary.\n"
          ]
        }
      ]
    },
    {
      "cell_type": "code",
      "source": [
        "# 13. How would you check if a file exists before attempting to read it in Python?\n",
        "\n",
        "import os\n",
        "\n",
        "file_path = \"demo.txt\"\n",
        "\n",
        "if os.path.exists(file_path):\n",
        "    with open(file_path, \"r\") as f:\n",
        "        print(f.read())\n",
        "else:\n",
        "    print(\"File does not exist.\")"
      ],
      "metadata": {
        "colab": {
          "base_uri": "https://localhost:8080/"
        },
        "id": "frGerGd4xvTM",
        "outputId": "e77f5a5a-64c2-4881-bf9d-3e18088f1965"
      },
      "execution_count": null,
      "outputs": [
        {
          "output_type": "stream",
          "name": "stdout",
          "text": [
            "Hello, World!\n"
          ]
        }
      ]
    },
    {
      "cell_type": "code",
      "source": [
        "# 14. Write a program that uses the logging module to log both informational and error messages.\n",
        "\n",
        "import logging\n",
        "logging.basicConfig(filename = \"test.log\", level = logging.INFO, format = '%(asctime)s - %(levelname)s - %(message)s')\n",
        "logging.info(\"This is a informational message.\")\n",
        "logging.error(\"This is a error message.\")"
      ],
      "metadata": {
        "colab": {
          "base_uri": "https://localhost:8080/"
        },
        "id": "PZLJ2dCtxz4e",
        "outputId": "15857414-7bf1-4d95-dbaa-4505aa949977"
      },
      "execution_count": null,
      "outputs": [
        {
          "output_type": "stream",
          "name": "stderr",
          "text": [
            "ERROR:root:This is a error message.\n"
          ]
        }
      ]
    },
    {
      "cell_type": "code",
      "source": [
        "# 15. Write a Python program that prints the content of a file and handles the case when the file is empty.\n",
        "\n",
        "try:\n",
        "    with open(\"file.txt\", \"r\") as f:\n",
        "        content = f.read()\n",
        "        if content.strip():\n",
        "            print(content)\n",
        "        else:\n",
        "            print(\"File is empty.\")\n",
        "except FileNotFoundError:\n",
        "    print(\"File not found.\")\n",
        "except Exception as e:\n",
        "    print(\"Error: \",e)\n"
      ],
      "metadata": {
        "colab": {
          "base_uri": "https://localhost:8080/"
        },
        "id": "qUpdR0XBx26X",
        "outputId": "38f6f821-b991-4443-9c71-d2afbe1ad01b"
      },
      "execution_count": null,
      "outputs": [
        {
          "output_type": "stream",
          "name": "stdout",
          "text": [
            "File not found.\n"
          ]
        }
      ]
    },
    {
      "cell_type": "code",
      "source": [
        "# 16. Demonstrate how to use memory profiling to check the memory usage of a small program.\n",
        "\n",
        "import psutil, os\n",
        "\n",
        "def memory_usage():\n",
        "    process = psutil.Process(os.getpid())\n",
        "    return process.memory_info().rss / 1024 ** 2  # in MB\n",
        "\n",
        "# Example program\n",
        "print(f\"Memory before: {memory_usage():.2f} MB\")\n",
        "\n",
        "nums = [i for i in range(100000)]\n",
        "print(f\"Memory after creating list: {memory_usage():.2f} MB\")\n",
        "\n",
        "squares = [n**2 for n in nums]\n",
        "print(f\"Memory after squaring: {memory_usage():.2f} MB\")\n"
      ],
      "metadata": {
        "colab": {
          "base_uri": "https://localhost:8080/"
        },
        "id": "YiIDVafvx-Et",
        "outputId": "1c070c5c-eae9-4f27-c72d-8fd0182c8d27"
      },
      "execution_count": null,
      "outputs": [
        {
          "output_type": "stream",
          "name": "stdout",
          "text": [
            "Memory before: 96.37 MB\n",
            "Memory after creating list: 100.23 MB\n",
            "Memory after squaring: 104.10 MB\n"
          ]
        }
      ]
    },
    {
      "cell_type": "code",
      "source": [
        "# 17. Write a Python program to create and write a list of numbers to a file, one number per line.\n",
        "\n",
        "with open(\"numbers.txt\", \"w\") as file:\n",
        "    lst = [1,2,3,4,5,6,7,8,9,10]\n",
        "    for i in lst:\n",
        "        file.write(str(i) + \"\\n\")"
      ],
      "metadata": {
        "id": "Zi3nMMsoyMH2"
      },
      "execution_count": null,
      "outputs": []
    },
    {
      "cell_type": "code",
      "source": [
        "# 18. How would you implement a basic logging setup that logs to a file with rotation after 1MB?\n",
        "\n",
        "import logging\n",
        "from logging.handlers import RotatingFileHandler\n",
        "\n",
        "logging.basicConfig(handlers=[RotatingFileHandler(\"app.log\", maxBytes=1024*1024, backupCount=2)], level=logging.INFO)\n",
        "\n",
        "logging.info(\"Hello, rotating log!\")\n"
      ],
      "metadata": {
        "id": "xjk7-UhDyPLF"
      },
      "execution_count": null,
      "outputs": []
    },
    {
      "cell_type": "code",
      "source": [
        "# 19. Write a program that handles both IndexError and KeyError using a try-except block.\n",
        "\n",
        "new_dict = {\"Name\": \"Raj Chhapariya\", \"Age\": 23}\n",
        "new_str = \"Raj\"\n",
        "\n",
        "try:\n",
        "    print(new_dict[\"Height\"])\n",
        "except KeyError:\n",
        "    print(\"Key not found.\")\n",
        "\n",
        "try:\n",
        "    print(new_str[5])\n",
        "except IndexError:\n",
        "    print(\"Index not found.\")"
      ],
      "metadata": {
        "colab": {
          "base_uri": "https://localhost:8080/"
        },
        "id": "47J3xvlYzOug",
        "outputId": "ffa4f5a5-c87e-4f1a-ca58-7b8a095d114d"
      },
      "execution_count": 1,
      "outputs": [
        {
          "output_type": "stream",
          "name": "stdout",
          "text": [
            "Key not found.\n",
            "Index not found.\n"
          ]
        }
      ]
    },
    {
      "cell_type": "code",
      "source": [
        "# 20. How would you open a file and read its contents using a context manager in Python?\n",
        "\n",
        "with open(\"demo.txt\", \"r\") as file:\n",
        "    contents = file.read()\n",
        "    print(contents)\n"
      ],
      "metadata": {
        "colab": {
          "base_uri": "https://localhost:8080/"
        },
        "id": "E1FipxbQzShc",
        "outputId": "430d2782-f416-4604-aef3-2e2cca07a6ce"
      },
      "execution_count": 9,
      "outputs": [
        {
          "output_type": "stream",
          "name": "stdout",
          "text": [
            "Python is an easy language to learn.\n",
            "Many developers love Python because it is versatile.\n",
            "python can be used for data science, web development, and automation.\n",
            "Some people also use PYTHON for scripting and artificial intelligence.\n",
            "This file contains multiple Python words for testing.\n",
            "\n"
          ]
        }
      ]
    },
    {
      "cell_type": "code",
      "source": [
        "# 21. Write a Python program that reads a file and prints the number of occurrences of a specific word.\n",
        "\n",
        "search_word = \"Python\"\n",
        "count = 0\n",
        "\n",
        "with open(\"demo.txt\", \"r\") as file:\n",
        "    for line in file:\n",
        "        words = line.split()  # split line into words\n",
        "        for word in words:\n",
        "            if word == search_word:\n",
        "                count += 1\n",
        "\n",
        "print(f\"The word '{search_word}' occurred {count} times.\")"
      ],
      "metadata": {
        "colab": {
          "base_uri": "https://localhost:8080/"
        },
        "id": "1rdd1NRszXKe",
        "outputId": "acbc3a20-b24a-4f7a-b7a7-b9eb35d7f54b"
      },
      "execution_count": 10,
      "outputs": [
        {
          "output_type": "stream",
          "name": "stdout",
          "text": [
            "The word 'Python' occurred 3 times.\n"
          ]
        }
      ]
    },
    {
      "cell_type": "code",
      "source": [
        "# 22. How can you check if a file is empty before attempting to read its contents?\n",
        "\n",
        "import os\n",
        "\n",
        "filename = \"demo.txt\"\n",
        "\n",
        "if os.path.getsize(filename) == 0:\n",
        "    print(\"The file is empty.\")\n",
        "else:\n",
        "    with open(filename, \"r\") as file:\n",
        "        print(file.read())\n"
      ],
      "metadata": {
        "colab": {
          "base_uri": "https://localhost:8080/"
        },
        "id": "AfUX-yrBzaLa",
        "outputId": "ffdde167-6471-46fd-f06c-17f6729b902d"
      },
      "execution_count": 11,
      "outputs": [
        {
          "output_type": "stream",
          "name": "stdout",
          "text": [
            "Python is an easy language to learn.\n",
            "Many developers love Python because it is versatile.\n",
            "python can be used for data science, web development, and automation.\n",
            "Some people also use PYTHON for scripting and artificial intelligence.\n",
            "This file contains multiple Python words for testing.\n",
            "\n"
          ]
        }
      ]
    },
    {
      "cell_type": "code",
      "source": [
        "# 23. Write a Python program that writes to a log file when an error occurs during file handling.\n",
        "\n",
        "import logging\n",
        "\n",
        "logging.basicConfig(\n",
        "    filename=\"file.log\",\n",
        "    level=logging.ERROR,\n",
        "    format='%(asctime)s - %(levelname)s - %(message)s'\n",
        ")\n",
        "\n",
        "try:\n",
        "    with open(\"demo9.txt\", \"r\") as file:\n",
        "        content = file.read()\n",
        "        print(content)\n",
        "\n",
        "except Exception as e:\n",
        "    logging.error(f\"An error occurred: {e}\")\n",
        "    print(\"An error occurred. Please check file.log for details.\")\n"
      ],
      "metadata": {
        "colab": {
          "base_uri": "https://localhost:8080/"
        },
        "id": "JcL8PbQezf46",
        "outputId": "95fc7ed4-4b22-44f7-abf4-9cd8baebfce0"
      },
      "execution_count": 12,
      "outputs": [
        {
          "output_type": "stream",
          "name": "stderr",
          "text": [
            "ERROR:root:An error occurred: [Errno 2] No such file or directory: 'demo9.txt'\n"
          ]
        },
        {
          "output_type": "stream",
          "name": "stdout",
          "text": [
            "An error occurred. Please check file.log for details.\n"
          ]
        }
      ]
    }
  ]
}