{
  "nbformat": 4,
  "nbformat_minor": 0,
  "metadata": {
    "colab": {
      "provenance": []
    },
    "kernelspec": {
      "name": "python3",
      "display_name": "Python 3"
    },
    "language_info": {
      "name": "python"
    }
  },
  "cells": [
    {
      "cell_type": "markdown",
      "source": [
        "# **Theory Questions Answers**\n",
        "\n",
        "**1. What are data structures, and why are they important?**\n",
        "\n",
        "- Data structures are organized ways to store, manage, and retrieve data in a computer. They help organize data for efficient processing, making it easier to perform tasks like searching, sorting, and updating data.\n",
        "\n",
        "**2. Explain the difference between mutable and immutable data types with examples.**\n",
        "\n",
        "- \tMutable: Can be changed after creation.\n",
        "Example: Lists (``), dictionaries.\n",
        "\n",
        "- Immutable: Cannot be changed after creation.\n",
        "Example: Tuples ((1, 2, 3)), strings (\"hello\"), integers.\n",
        "\n",
        "**3. What are the main differences between lists and tuples in Python?**\n",
        "\n",
        "- \tLists: Mutable, can be modified (items added, removed, changed).\n",
        "\n",
        "- \tTuples: Immutable, cannot be modified after creation.\n",
        "\n",
        "- \tPerformance: Tuples are generally faster.\n",
        "\n",
        "**4. Describe how dictionaries store data?**\n",
        "\n",
        "- Dictionaries store data as key-value pairs. Each unique key maps to a value, and you access values using keys, not indexes.\n",
        "\n",
        "**5. Why might you use a set instead of a list in Python?**\n",
        "\n",
        "- Sets automatically remove duplicates and provide faster membership checking (in). Useful for unique collections.\n",
        "\n",
        "**6. What is a string in Python, and how is it different from a list?**\n",
        "\n",
        "- A string is a sequence of characters (immutable), while a list is a sequence of items (mutable, can contain any data type).\n",
        "\n",
        "**7. How do tuples ensure data integrity in Python?**\n",
        "\n",
        "- Their immutability prevents accidental modification, making them ideal for fixed data and keys in dictionaries.\n",
        "\n",
        "**8. What is a hash table, and how does it relate to dictionaries in Python?**\n",
        "\n",
        "- A hash table stores data using a hash function that maps keys to positions. Python's dictionaries are implemented using hash tables, allowing fast access.\n",
        "\n",
        "**9. Can lists contain different data types in Python?**\n",
        "\n",
        "- Yes. Lists can hold elements of different types (e.g. [1, \"hello\", 3.14, ]).\n",
        "\n",
        "**10. Explain why strings are immutable in Python?**\n",
        "\n",
        "- Immutability makes strings faster to process, share, and cache; it prevents accidental changes and enables safe use as dictionary keys.\n",
        "\n",
        "**11. What advantages do dictionaries offer over lists for certain tasks?**\n",
        "\n",
        "- \tFast access using unique keys,\n",
        "\n",
        "- \tMore natural mapping for labeled data,\n",
        "\n",
        "- Easier data retrieval without needing numeric indexes.\n",
        "\n",
        "**12. Describe a scenario where using a tuple would be preferable over a list.**\n",
        "\n",
        "- When storing fixed data, like coordinates (x, y), or using as a dictionary key, since tuples are hashable and immutable.\n",
        "\n",
        "**13. How do sets handle duplicate values in Python?**\n",
        "\n",
        "- Sets remove duplicates automatically; only unique elements are stored.\n",
        "\n",
        "**14. How does the “in” keyword work differently for lists and dictionaries?**\n",
        "\n",
        "- \tList: Checks if a value exists among the elements.\n",
        "- Dictionary: Checks if a value exists among the keys.\n",
        "\n",
        "**15. Can you modify the elements of a tuple? Explain why or why not?**\n",
        "\n",
        "- No. Tuples are immutable; you can't add, remove, or change elements after creation.\n",
        "\n",
        "**16. What is a nested dictionary, and give an example of its use case?**\n",
        "\n",
        "- A dictionary where values are dictionaries.\n",
        "Example: Storing student records: { \"Alice\": {\"math\": 90, \"eng\": 80}, \"Bob\": {\"math\": 85, \"eng\": 88} }.\n",
        "\n",
        "**17. Describe the time complexity of accessing elements in a dictionary?**\n",
        "\n",
        "- Average case: O(1) due to hash table implementation.\n",
        "\n",
        "**18. In what situations are lists preferred over dictionaries?**\n",
        "\n",
        "- When order matters, you need sequential access, or you have unlabeled collections.\n",
        "\n",
        "**19. Why are dictionaries considered unordered, and how does that affect data retrieval?**\n",
        "\n",
        "- Before Python 3.7, dictionaries did not maintain order. Even now, although insertion order is preserved, you do not access items by order but by key, so retrieval is by key instead of position.\n",
        "\n",
        "**20. Explain the difference between a list and a dictionary in terms of data retrieval.**\n",
        "\n",
        "- \tList: Access by numeric index (e.g., my_list).\n",
        "- \tDictionary: Access by key (e.g., my_dict[\"name\"]).\n"
      ],
      "metadata": {
        "id": "2o7nFWe84bEO"
      }
    },
    {
      "cell_type": "markdown",
      "source": [
        "# **Practical Questions**"
      ],
      "metadata": {
        "id": "6YojJsT_t7xL"
      }
    },
    {
      "cell_type": "code",
      "execution_count": 56,
      "metadata": {
        "colab": {
          "base_uri": "https://localhost:8080/"
        },
        "id": "wpdMkk_2t4DW",
        "outputId": "bd2ae6ea-f85e-401a-ccf0-9b16c342f4a2"
      },
      "outputs": [
        {
          "output_type": "stream",
          "name": "stdout",
          "text": [
            "Raj Chhapariya\n"
          ]
        }
      ],
      "source": [
        "# 1. Write a code to create a string with your name and print it.\n",
        "name = \"Raj Chhapariya\"\n",
        "print(name)"
      ]
    },
    {
      "cell_type": "code",
      "source": [
        "# 2. Write a code to find the length of the string \"Hello World\" .\n",
        "\n",
        "str = \"Hello world\"\n",
        "print(len(str))"
      ],
      "metadata": {
        "colab": {
          "base_uri": "https://localhost:8080/"
        },
        "id": "DxxQfmr-vBFU",
        "outputId": "af72015f-3d3f-4d8b-c938-4ce06e337796"
      },
      "execution_count": 57,
      "outputs": [
        {
          "output_type": "stream",
          "name": "stdout",
          "text": [
            "11\n"
          ]
        }
      ]
    },
    {
      "cell_type": "code",
      "source": [
        "# 3. Write a code to slice the first 3 characters from the string \"Python Programming\" .\n",
        "str = \"Python Programming\"\n",
        "print(str[0:3])"
      ],
      "metadata": {
        "colab": {
          "base_uri": "https://localhost:8080/"
        },
        "id": "y9YQ5fwAvMMF",
        "outputId": "8b161207-c867-4072-e280-f43717a7e473"
      },
      "execution_count": 58,
      "outputs": [
        {
          "output_type": "stream",
          "name": "stdout",
          "text": [
            "Pyt\n"
          ]
        }
      ]
    },
    {
      "cell_type": "code",
      "source": [
        "# 4. Write a code to convert the string \"hello\" to uppercase.\n",
        "str = \"hello\"\n",
        "print(str.upper())"
      ],
      "metadata": {
        "colab": {
          "base_uri": "https://localhost:8080/"
        },
        "id": "W5gxpA5pvbWq",
        "outputId": "38a8a687-087d-4b44-ae9c-4c7373b45806"
      },
      "execution_count": 59,
      "outputs": [
        {
          "output_type": "stream",
          "name": "stdout",
          "text": [
            "HELLO\n"
          ]
        }
      ]
    },
    {
      "cell_type": "code",
      "source": [
        "# 5. Write a code to replace the word \"apple\" with \"orange\" in the string \"I like apple\".\n",
        "\n",
        "str = \"I like apple\"\n",
        "\n",
        "print(str.replace(\"apple\", \"orange\"))"
      ],
      "metadata": {
        "colab": {
          "base_uri": "https://localhost:8080/"
        },
        "id": "f90ns9xpvnhp",
        "outputId": "249f1a10-d936-4838-84c4-4a5937454dc8"
      },
      "execution_count": 60,
      "outputs": [
        {
          "output_type": "stream",
          "name": "stdout",
          "text": [
            "I like orange\n"
          ]
        }
      ]
    },
    {
      "cell_type": "code",
      "source": [
        "# 6. Write a code to create a list with numbers 1 to 5 and print it.\n",
        "\n",
        "lst = []\n",
        "\n",
        "for i in range(1, 6):\n",
        "  lst.append(i)\n",
        "\n",
        "print(lst)"
      ],
      "metadata": {
        "colab": {
          "base_uri": "https://localhost:8080/"
        },
        "id": "LEJ7sqNbv-zs",
        "outputId": "9637ad3b-00cf-4393-f680-53e030ded378"
      },
      "execution_count": 61,
      "outputs": [
        {
          "output_type": "stream",
          "name": "stdout",
          "text": [
            "[1, 2, 3, 4, 5]\n"
          ]
        }
      ]
    },
    {
      "cell_type": "code",
      "source": [
        "# 7. Write a code to append the number 10 to the list [1, 2, 3, 4]\n",
        "\n",
        "lst =[1,2,3,4]\n",
        "lst.append(10)\n",
        "print(lst)"
      ],
      "metadata": {
        "colab": {
          "base_uri": "https://localhost:8080/"
        },
        "id": "jYm6HA9DwS3y",
        "outputId": "d6432e65-c9e9-4322-eb11-b7985da59ca7"
      },
      "execution_count": 62,
      "outputs": [
        {
          "output_type": "stream",
          "name": "stdout",
          "text": [
            "[1, 2, 3, 4, 10]\n"
          ]
        }
      ]
    },
    {
      "cell_type": "code",
      "source": [
        "# 8. Write a code to remove the number 3 from the list [1, 2, 3, 4, 5]\n",
        "lst = [1,2,3,4,5]\n",
        "lst.remove(3)\n",
        "print(lst)\n"
      ],
      "metadata": {
        "colab": {
          "base_uri": "https://localhost:8080/"
        },
        "id": "e5KD85NDwh-_",
        "outputId": "2787917c-c68e-4e25-ea37-a90d1cda8011"
      },
      "execution_count": 63,
      "outputs": [
        {
          "output_type": "stream",
          "name": "stdout",
          "text": [
            "[1, 2, 4, 5]\n"
          ]
        }
      ]
    },
    {
      "cell_type": "code",
      "source": [
        "# 9.  Write a code to access the second element in the list ['a', 'b', 'c', 'd']\n",
        "lst = ['a', 'b', 'c', 'd']\n",
        "print(lst[1])"
      ],
      "metadata": {
        "colab": {
          "base_uri": "https://localhost:8080/"
        },
        "id": "IXnCvlQVww8C",
        "outputId": "858d03a5-eb5e-480b-db5d-efd212bf7956"
      },
      "execution_count": 64,
      "outputs": [
        {
          "output_type": "stream",
          "name": "stdout",
          "text": [
            "b\n"
          ]
        }
      ]
    },
    {
      "cell_type": "code",
      "source": [
        "# 10. Write a code to reverse the list [10, 20, 30, 40, 50]\n",
        "lst = [10, 20, 30, 40, 50]\n",
        "print(lst[::-1])"
      ],
      "metadata": {
        "colab": {
          "base_uri": "https://localhost:8080/"
        },
        "id": "RGOhrpBgxBeZ",
        "outputId": "b9e3c4e4-fb8e-4a19-e079-6f4e1c395b5c"
      },
      "execution_count": 65,
      "outputs": [
        {
          "output_type": "stream",
          "name": "stdout",
          "text": [
            "[50, 40, 30, 20, 10]\n"
          ]
        }
      ]
    },
    {
      "cell_type": "code",
      "source": [
        "# 11. Write a code to create a tuple with the elements 100, 200, 300 and print it.\n",
        "\n",
        "tup = (100, 200, 300)\n",
        "print(tup)"
      ],
      "metadata": {
        "colab": {
          "base_uri": "https://localhost:8080/"
        },
        "id": "vXPu3RZTxNFL",
        "outputId": "d8923d8a-011e-4b67-871a-4d908564e359"
      },
      "execution_count": 66,
      "outputs": [
        {
          "output_type": "stream",
          "name": "stdout",
          "text": [
            "(100, 200, 300)\n"
          ]
        }
      ]
    },
    {
      "cell_type": "code",
      "source": [
        "# 12. Write a code to access the second-to-last element of the tuple ('red', 'green', 'blue', 'yellow') .\n",
        "\n",
        "tup =  ('red', 'green', 'blue', 'yellow')\n",
        "print(tup[1:4])"
      ],
      "metadata": {
        "colab": {
          "base_uri": "https://localhost:8080/"
        },
        "id": "BQCT3aQOxuF-",
        "outputId": "3a65ea9d-08e9-4a3e-f65b-2a9ab4dc5caf"
      },
      "execution_count": 67,
      "outputs": [
        {
          "output_type": "stream",
          "name": "stdout",
          "text": [
            "('green', 'blue', 'yellow')\n"
          ]
        }
      ]
    },
    {
      "cell_type": "code",
      "source": [
        "# 13. Write a code to find the minimum number in the tuple (10, 20, 5, 15)\n",
        "\n",
        "tup =  (10, 20, 5, 15)\n",
        "print(min(tup))"
      ],
      "metadata": {
        "colab": {
          "base_uri": "https://localhost:8080/"
        },
        "id": "oqWEMVujx_-_",
        "outputId": "0bc832d2-1974-42d5-b660-5ed847166ef7"
      },
      "execution_count": 68,
      "outputs": [
        {
          "output_type": "stream",
          "name": "stdout",
          "text": [
            "5\n"
          ]
        }
      ]
    },
    {
      "cell_type": "code",
      "source": [
        "# 14. Write a code to find the index of the element \"cat\" in the tuple ('dog', 'cat', 'rabbit').\n",
        "\n",
        "tup = ('dog', 'cat', 'rabbit')\n",
        "print(tup.index(\"cat\"))"
      ],
      "metadata": {
        "colab": {
          "base_uri": "https://localhost:8080/"
        },
        "id": "uQOtJ8ZIymFs",
        "outputId": "b2d0dfe4-c5a1-4a04-bc7d-2e82423dbb1e"
      },
      "execution_count": 69,
      "outputs": [
        {
          "output_type": "stream",
          "name": "stdout",
          "text": [
            "1\n"
          ]
        }
      ]
    },
    {
      "cell_type": "code",
      "source": [
        "# 15. Write a code to create a tuple containing three different fruits and check if \"kiwi\" is in it.\n",
        "\n",
        "tup = ('apple', 'kiwi', 'pineapple')\n",
        "print('kiwi' in tup)"
      ],
      "metadata": {
        "colab": {
          "base_uri": "https://localhost:8080/"
        },
        "id": "o_jwlPNIy3ic",
        "outputId": "a0fca0d1-73a8-4598-e846-9f5c75f44a05"
      },
      "execution_count": 70,
      "outputs": [
        {
          "output_type": "stream",
          "name": "stdout",
          "text": [
            "True\n"
          ]
        }
      ]
    },
    {
      "cell_type": "code",
      "source": [
        "# 16.  Write a code to create a set with the elements 'a', 'b', 'c' and print it.\n",
        "\n",
        "s = {'a', 'b', 'c'}\n",
        "print(s)"
      ],
      "metadata": {
        "colab": {
          "base_uri": "https://localhost:8080/"
        },
        "id": "od0_HUMXzP0L",
        "outputId": "91918cae-587d-46a6-c57f-778572b59e63"
      },
      "execution_count": 71,
      "outputs": [
        {
          "output_type": "stream",
          "name": "stdout",
          "text": [
            "{'b', 'c', 'a'}\n"
          ]
        }
      ]
    },
    {
      "cell_type": "code",
      "source": [
        "# 17. Write a code to clear all elements from the set {1, 2, 3, 4, 5}.\n",
        "s = {1, 2, 3, 4, 5}\n",
        "s.clear()\n",
        "print(s)"
      ],
      "metadata": {
        "colab": {
          "base_uri": "https://localhost:8080/"
        },
        "id": "xbhUc6XpzbdC",
        "outputId": "3f6ebdc9-2391-4504-da87-e86b489bcca0"
      },
      "execution_count": 72,
      "outputs": [
        {
          "output_type": "stream",
          "name": "stdout",
          "text": [
            "set()\n"
          ]
        }
      ]
    },
    {
      "cell_type": "code",
      "source": [
        "# 18. Write a code to remove the element 4 from the set {1, 2, 3, 4}\n",
        "\n",
        "s={1, 2, 3, 4}\n",
        "s.remove(4)\n",
        "print(s)"
      ],
      "metadata": {
        "colab": {
          "base_uri": "https://localhost:8080/"
        },
        "id": "AE5BNk2Azmwk",
        "outputId": "4bd129c0-647d-4d42-ee20-b7fdf58a4923"
      },
      "execution_count": 73,
      "outputs": [
        {
          "output_type": "stream",
          "name": "stdout",
          "text": [
            "{1, 2, 3}\n"
          ]
        }
      ]
    },
    {
      "cell_type": "code",
      "source": [
        "# 19. Write a code to find the union of two sets {1, 2, 3} and {3, 4, 5}.\n",
        "\n",
        "a = {1, 2, 3}\n",
        "b = {3, 4, 5}\n",
        "\n",
        "print(a.union(b))"
      ],
      "metadata": {
        "colab": {
          "base_uri": "https://localhost:8080/"
        },
        "id": "9sqvnB-qzw4V",
        "outputId": "1f670dfc-c122-4302-eb0a-11cd5410c852"
      },
      "execution_count": 74,
      "outputs": [
        {
          "output_type": "stream",
          "name": "stdout",
          "text": [
            "{1, 2, 3, 4, 5}\n"
          ]
        }
      ]
    },
    {
      "cell_type": "code",
      "source": [
        "# 20. Write a code to find the intersection of two sets {1, 2, 3} and {2, 3, 4}.\n",
        "\n",
        "a={1, 2, 3}\n",
        "b={2, 3, 4}\n",
        "print(a.intersection(b))"
      ],
      "metadata": {
        "colab": {
          "base_uri": "https://localhost:8080/"
        },
        "id": "xMmLSsQgz-C1",
        "outputId": "8776797d-daaa-4249-e074-f0d7b5538b59"
      },
      "execution_count": 75,
      "outputs": [
        {
          "output_type": "stream",
          "name": "stdout",
          "text": [
            "{2, 3}\n"
          ]
        }
      ]
    },
    {
      "cell_type": "code",
      "source": [
        "# 21. Write a code to create a dictionary with the keys \"name\", \"age\", and \"city\", and print it.\n",
        "\n",
        "print(dict(name = \"Raj Chhapariya\", age = 23, city = \"Varanasi\"))"
      ],
      "metadata": {
        "colab": {
          "base_uri": "https://localhost:8080/"
        },
        "id": "2DLJT3Nf0K3d",
        "outputId": "5050ec1c-e13b-43e6-90ce-d9314ee6fae7"
      },
      "execution_count": 76,
      "outputs": [
        {
          "output_type": "stream",
          "name": "stdout",
          "text": [
            "{'name': 'Raj Chhapariya', 'age': 23, 'city': 'Varanasi'}\n"
          ]
        }
      ]
    },
    {
      "cell_type": "code",
      "source": [
        "# 22. Write a code to add a new key-value pair \"country\": \"USA\" to the dictionary {'name': 'John', 'age': 25}.\n",
        "\n",
        "dt = {'name': 'John', 'age': 25}\n",
        "dt['country'] = 'USA'\n",
        "print(dt)"
      ],
      "metadata": {
        "colab": {
          "base_uri": "https://localhost:8080/"
        },
        "id": "osS7bkK00wTa",
        "outputId": "72057ec7-c399-4227-8e49-7cfc7fcfd4f2"
      },
      "execution_count": 77,
      "outputs": [
        {
          "output_type": "stream",
          "name": "stdout",
          "text": [
            "{'name': 'John', 'age': 25, 'country': 'USA'}\n"
          ]
        }
      ]
    },
    {
      "cell_type": "code",
      "source": [
        "# 23. Write a code to access the value associated with the key \"name\" in the dictionary {'name': 'Alice', 'age': 30}.\n",
        "\n",
        "dt = {'name': 'Alice', 'age': 30}\n",
        "print(dt['name'])"
      ],
      "metadata": {
        "colab": {
          "base_uri": "https://localhost:8080/"
        },
        "id": "7D4X2KM00_vi",
        "outputId": "b1f15645-19e2-47c9-d11d-239fda257f47"
      },
      "execution_count": 78,
      "outputs": [
        {
          "output_type": "stream",
          "name": "stdout",
          "text": [
            "Alice\n"
          ]
        }
      ]
    },
    {
      "cell_type": "code",
      "source": [
        "# 24. Write a code to remove the key \"age\" from the dictionary {'name': 'Bob', 'age': 22, 'city': 'New York'}.\n",
        "\n",
        "dt = {'name': 'Bob', 'age': 22, 'city': 'New York'}\n",
        "dt.pop('age')\n",
        "print(dt)"
      ],
      "metadata": {
        "colab": {
          "base_uri": "https://localhost:8080/"
        },
        "id": "kZ7j5h-j1P_I",
        "outputId": "dab544a5-3171-4ff2-c32e-574884ed15f4"
      },
      "execution_count": 79,
      "outputs": [
        {
          "output_type": "stream",
          "name": "stdout",
          "text": [
            "{'name': 'Bob', 'city': 'New York'}\n"
          ]
        }
      ]
    },
    {
      "cell_type": "code",
      "source": [
        "# 25. Write a code to check if the key \"city\" exists in the dictionary {'name': 'Alice', 'city': 'Paris'}.\n",
        "\n",
        "dt = {'name': 'Alice', 'city': 'Paris'}\n",
        "print(\"city\" in dt)"
      ],
      "metadata": {
        "colab": {
          "base_uri": "https://localhost:8080/"
        },
        "id": "lSxhoQO71eOV",
        "outputId": "0b0bb360-9743-4881-db18-ad797f1ea0db"
      },
      "execution_count": 80,
      "outputs": [
        {
          "output_type": "stream",
          "name": "stdout",
          "text": [
            "True\n"
          ]
        }
      ]
    },
    {
      "cell_type": "code",
      "metadata": {
        "colab": {
          "base_uri": "https://localhost:8080/"
        },
        "id": "916f3839",
        "outputId": "a1a532db-6e38-407d-f903-a0ff5e12f1ca"
      },
      "source": [
        "# 26. Write a code to create a list, a tuple, and a dictionary, and print them all.\n",
        "\n",
        "my_list = [1, 2, 3, 4, 5]\n",
        "print(\"My List:\", my_list)\n",
        "\n",
        "my_tuple = (10, 20, 30, 40, 50)\n",
        "print(\"My Tuple:\", my_tuple)\n",
        "\n",
        "my_dict = {\"name\": \"Alice\", \"age\": 30, \"city\": \"New York\"}\n",
        "print(\"My Dictionary:\", my_dict)"
      ],
      "execution_count": 81,
      "outputs": [
        {
          "output_type": "stream",
          "name": "stdout",
          "text": [
            "My List: [1, 2, 3, 4, 5]\n",
            "My Tuple: (10, 20, 30, 40, 50)\n",
            "My Dictionary: {'name': 'Alice', 'age': 30, 'city': 'New York'}\n"
          ]
        }
      ]
    },
    {
      "cell_type": "code",
      "source": [
        "# 27. Write a code to create a list of 5 random numbers between 1 and 100, sort it in ascending order, and print the\n",
        "# result.(replaced)\n",
        "\n",
        "lst = [1, 45, 69, 34, 96]\n",
        "lst.sort()\n",
        "print(\"replaced:\", lst)"
      ],
      "metadata": {
        "colab": {
          "base_uri": "https://localhost:8080/"
        },
        "id": "-YgS0yU02XRD",
        "outputId": "d13e4617-341e-485e-a06e-4d313964e514"
      },
      "execution_count": 86,
      "outputs": [
        {
          "output_type": "stream",
          "name": "stdout",
          "text": [
            "replaced: [1, 34, 45, 69, 96]\n"
          ]
        }
      ]
    },
    {
      "cell_type": "code",
      "source": [
        "# 28. Write a code to create a list with strings and print the element at the third index.\n",
        "\n",
        "lst = ['raj', 'raju', 'rajveer', 'rajendar', 'ram']\n",
        "print(lst[3])"
      ],
      "metadata": {
        "colab": {
          "base_uri": "https://localhost:8080/"
        },
        "id": "wGV8qrxe3OXh",
        "outputId": "90e757e6-41f5-4f68-d23d-8c55f7e4c5ae"
      },
      "execution_count": 83,
      "outputs": [
        {
          "output_type": "stream",
          "name": "stdout",
          "text": [
            "rajendar\n"
          ]
        }
      ]
    },
    {
      "cell_type": "code",
      "source": [
        "# 29. Write a code to combine two dictionaries into one and print the result.\n",
        "\n",
        "dt1 = {'name': 'Raj', 'age': 23}\n",
        "dt2 = {'city': 'Varanasi', 'country': 'India'}\n",
        "\n",
        "dt1.update(dt2)\n",
        "print(dt1)"
      ],
      "metadata": {
        "colab": {
          "base_uri": "https://localhost:8080/"
        },
        "id": "h_Z5azNl3is1",
        "outputId": "fffa6569-64c2-49c8-c73b-bcd46041b29c"
      },
      "execution_count": 84,
      "outputs": [
        {
          "output_type": "stream",
          "name": "stdout",
          "text": [
            "{'name': 'Raj', 'age': 23, 'city': 'Varanasi', 'country': 'India'}\n"
          ]
        }
      ]
    },
    {
      "cell_type": "code",
      "source": [
        "# 30. Write a code to convert a list of strings into a set.\n",
        "\n",
        "lst = ['raj', 'raju', 'rajveer', 'rajendar', 'ram']\n",
        "print(set(lst))"
      ],
      "metadata": {
        "colab": {
          "base_uri": "https://localhost:8080/"
        },
        "id": "hNsiFxM833vl",
        "outputId": "86e4595c-75cb-4e1e-f989-f934a6c13da7"
      },
      "execution_count": 85,
      "outputs": [
        {
          "output_type": "stream",
          "name": "stdout",
          "text": [
            "{'rajendar', 'raju', 'rajveer', 'raj', 'ram'}\n"
          ]
        }
      ]
    }
  ]
}